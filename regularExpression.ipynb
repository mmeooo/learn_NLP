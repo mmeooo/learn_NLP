{
  "nbformat": 4,
  "nbformat_minor": 0,
  "metadata": {
    "colab": {
      "name": "regularExpression.ipynb",
      "provenance": [],
      "collapsed_sections": [],
      "authorship_tag": "ABX9TyOBIf+xEA8xaGzPAunnn1/P"
    },
    "kernelspec": {
      "name": "python3",
      "display_name": "Python 3"
    },
    "language_info": {
      "name": "python"
    }
  },
  "cells": [
    {
      "cell_type": "markdown",
      "metadata": {
        "id": "82sEVPfdjhlP"
      },
      "source": [
        "\n",
        "https://regexr.com/\n",
        "\n",
        "https://en.wikipedia.org/wiki/Regular_expression \n",
        "\n",
        "> **`+`**  :  연결되는 뒷 문장도 엮어줌. 힌트 뒤에 붙이기\n",
        "\n",
        "\n",
        "> **기호 찾기**\n",
        "\n",
        "  역슬래쉬( \\ ) 는 특수문자의 시작\n",
        "  - [\\s \\]+ : '와 스페이스 빼고 선택\n",
        "  - [\\S \\']+ : 스페이스포함 선택\n",
        "  - [\\w ]+ : 워드 a-zA-Z\n",
        "\n",
        "\n",
        "> **숫자 찾기**\n",
        "\n",
        "1. Number Numer Nuber \n",
        "  - `Nu (be|e|m) r` : 앞이 Nu + 뒤가 r인 단어 선택\n",
        "\n",
        "2. color colour colouuuur colouuhur coollouuur\n",
        "  - `colou ? r` , `colou * r` : 기호 앞 문자까지동일한 단어 선택\n",
        "  - `colou + r` : u가 무조건 포함된 단어 선택\n",
        "  - `colou {1,3} r` : {1,3} 문자 개수 지정 \n",
        "  - `[colru]` : (c|o|l|r|u) 문자 들어간 단어 선택\n",
        "\n",
        "3. `[a-z]+` = `(a|b|c|d|e...y|z)`\n",
        "4. `man | other` :  man, other만 선택 \n",
        "5. `[^a-zA-Z]` : 소문자 대문자 제외 \n",
        "6. `[0-9]{3}-[0-9]{4}-[0-9]{4}` : 3자리-4자리-4자리 수 전화번호\n",
        "7. `[0-9]{2,3}-[0-9]{3,4}-[0-9]{4}` : 2,3자리-3,4자리-4자리 수 전화번호\n",
        "\n"
      ]
    },
    {
      "cell_type": "code",
      "metadata": {
        "id": "_2_Yd3S6k-DN"
      },
      "source": [
        "import re"
      ],
      "execution_count": 1,
      "outputs": []
    },
    {
      "cell_type": "code",
      "metadata": {
        "id": "EaGuY8d5N1WZ"
      },
      "source": [
        "phone = \"2004-959-559 # This is Phone Number\""
      ],
      "execution_count": 2,
      "outputs": []
    },
    {
      "cell_type": "code",
      "metadata": {
        "colab": {
          "base_uri": "https://localhost:8080/"
        },
        "id": "2jSDcHNb0ov5",
        "outputId": "6b6e9f05-c141-48a0-f188-6f095dc9433e"
      },
      "source": [
        "obj = re.findall('[0-9]+', phone)\n",
        "type(obj), obj"
      ],
      "execution_count": 6,
      "outputs": [
        {
          "output_type": "execute_result",
          "data": {
            "text/plain": [
              "(list, ['2004', '959', '559'])"
            ]
          },
          "metadata": {},
          "execution_count": 6
        }
      ]
    },
    {
      "cell_type": "code",
      "metadata": {
        "colab": {
          "base_uri": "https://localhost:8080/"
        },
        "id": "7N9-oZVI0tVb",
        "outputId": "7bd800a1-f5ed-4cbd-989c-ea2b1694cd23"
      },
      "source": [
        "obj = re.findall('[0-9]', phone)\n",
        "type(obj), obj"
      ],
      "execution_count": 7,
      "outputs": [
        {
          "output_type": "execute_result",
          "data": {
            "text/plain": [
              "(list, ['2', '0', '0', '4', '9', '5', '9', '5', '5', '9'])"
            ]
          },
          "metadata": {},
          "execution_count": 7
        }
      ]
    },
    {
      "cell_type": "code",
      "metadata": {
        "colab": {
          "base_uri": "https://localhost:8080/",
          "height": 35
        },
        "id": "dOMvDZfN2CDm",
        "outputId": "f79f3608-8988-4f5f-df5d-83d9adcc88ba"
      },
      "source": [
        "re.sub('[0-9]+', '1', phone)  # 0을 1로 채움"
      ],
      "execution_count": 8,
      "outputs": [
        {
          "output_type": "execute_result",
          "data": {
            "application/vnd.google.colaboratory.intrinsic+json": {
              "type": "string"
            },
            "text/plain": [
              "'1-1-1 # This is Phone Number'"
            ]
          },
          "metadata": {},
          "execution_count": 8
        }
      ]
    },
    {
      "cell_type": "code",
      "metadata": {
        "colab": {
          "base_uri": "https://localhost:8080/",
          "height": 35
        },
        "id": "WCbsG6vs2qJP",
        "outputId": "fb223a88-8165-4eee-c9b1-f5c76bd64447"
      },
      "source": [
        "phone = \"2004-959-559 # This is Phone Number\"\n",
        "re.sub('[0-9]', '0', phone)  # 자릿수에 맞게 0이 채워짐"
      ],
      "execution_count": 11,
      "outputs": [
        {
          "output_type": "execute_result",
          "data": {
            "application/vnd.google.colaboratory.intrinsic+json": {
              "type": "string"
            },
            "text/plain": [
              "'0000-000-000 # This is Phone Number'"
            ]
          },
          "metadata": {},
          "execution_count": 11
        }
      ]
    },
    {
      "cell_type": "code",
      "metadata": {
        "id": "kPnzdBKg2vfV"
      },
      "source": [
        ""
      ],
      "execution_count": null,
      "outputs": []
    }
  ]
}