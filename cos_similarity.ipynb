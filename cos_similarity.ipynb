{
  "nbformat": 4,
  "nbformat_minor": 0,
  "metadata": {
    "colab": {
      "name": "cos_similarity.ipynb",
      "provenance": [],
      "collapsed_sections": [],
      "authorship_tag": "ABX9TyPpxpghixKbwp/LzZ5sry5h"
    },
    "kernelspec": {
      "name": "python3",
      "display_name": "Python 3"
    },
    "language_info": {
      "name": "python"
    }
  },
  "cells": [
    {
      "cell_type": "markdown",
      "metadata": {
        "id": "rbyY1Lrin-53"
      },
      "source": [
        "## similarity \n",
        "관계성 확인 : https://wikidocs.net/24603\n",
        "\n",
        "tokenizer -> clustering 군집화 -> classification 분류체계 -> sentiment analysis 긍정부정\n",
        "\n",
        "> \n",
        "\n",
        "\n",
        "\n",
        "```\n",
        "      바나나  사과  저는  좋아요\n",
        "문서1   0      1     1     1\n",
        "문서2   1      0     1     1\n",
        "문서3   2      0     2     2\n",
        "\n"
      ]
    },
    {
      "cell_type": "code",
      "metadata": {
        "id": "FllmKyhGnOgx"
      },
      "source": [
        "from numpy import dot\n",
        "from numpy.linalg import norm\n",
        "import numpy as np\n",
        "def cos_sim(A, B):\n",
        "       return dot(A, B)/(norm(A)*norm(B))"
      ],
      "execution_count": null,
      "outputs": []
    },
    {
      "cell_type": "code",
      "metadata": {
        "id": "R4GTZVXliyzA"
      },
      "source": [
        "doc1 = np.array([1,0,1,1,1])\n",
        "doc2 = np.array([2,1,0,1,1])\n",
        "doc3 = np.array([3,2,0,2,2])"
      ],
      "execution_count": null,
      "outputs": []
    },
    {
      "cell_type": "code",
      "metadata": {
        "colab": {
          "base_uri": "https://localhost:8080/"
        },
        "id": "Mk91ppYkpjYj",
        "outputId": "4647651f-322d-43ae-d8e7-bc7f1d9ca9c3"
      },
      "source": [
        "cos_sim(doc1, doc2)"
      ],
      "execution_count": null,
      "outputs": [
        {
          "output_type": "execute_result",
          "data": {
            "text/plain": [
              "0.7559289460184544"
            ]
          },
          "metadata": {},
          "execution_count": 4
        }
      ]
    },
    {
      "cell_type": "code",
      "metadata": {
        "colab": {
          "base_uri": "https://localhost:8080/"
        },
        "id": "BPeH-NF2qM7x",
        "outputId": "1b2f7824-81dd-4ac4-ab95-cff05bf7b839"
      },
      "source": [
        "cos_sim(doc1, doc3)"
      ],
      "execution_count": null,
      "outputs": [
        {
          "output_type": "execute_result",
          "data": {
            "text/plain": [
              "0.7637626158259734"
            ]
          },
          "metadata": {},
          "execution_count": 5
        }
      ]
    },
    {
      "cell_type": "code",
      "metadata": {
        "id": "BkWiVjomphb6"
      },
      "source": [
        ""
      ],
      "execution_count": null,
      "outputs": []
    },
    {
      "cell_type": "markdown",
      "metadata": {
        "id": "38ZRZuKKmmf3"
      },
      "source": [
        "## Recomanded with cos similarity\n",
        "**text를 입력했을 때, 그 text와 가장 유사한 영화 제목을 추천해주기**\n",
        "\n",
        "dataset from https://www.kaggle.com/rounakbanik/the-movies-dataset/version/7?select=movies_metadata.csv"
      ]
    },
    {
      "cell_type": "code",
      "metadata": {
        "id": "VPkOLygOqPvA",
        "colab": {
          "base_uri": "https://localhost:8080/",
          "height": 430
        },
        "outputId": "3d6c5c03-4898-41e6-e252-f20617250ac9"
      },
      "source": [
        "import pandas as pd\n",
        "df_data = pd.read_csv('./movies_metadata.csv')\n",
        "df_data.head(3)"
      ],
      "execution_count": 2,
      "outputs": [
        {
          "output_type": "execute_result",
          "data": {
            "text/html": [
              "<div>\n",
              "<style scoped>\n",
              "    .dataframe tbody tr th:only-of-type {\n",
              "        vertical-align: middle;\n",
              "    }\n",
              "\n",
              "    .dataframe tbody tr th {\n",
              "        vertical-align: top;\n",
              "    }\n",
              "\n",
              "    .dataframe thead th {\n",
              "        text-align: right;\n",
              "    }\n",
              "</style>\n",
              "<table border=\"1\" class=\"dataframe\">\n",
              "  <thead>\n",
              "    <tr style=\"text-align: right;\">\n",
              "      <th></th>\n",
              "      <th>adult</th>\n",
              "      <th>belongs_to_collection</th>\n",
              "      <th>budget</th>\n",
              "      <th>genres</th>\n",
              "      <th>homepage</th>\n",
              "      <th>id</th>\n",
              "      <th>imdb_id</th>\n",
              "      <th>original_language</th>\n",
              "      <th>original_title</th>\n",
              "      <th>overview</th>\n",
              "      <th>popularity</th>\n",
              "      <th>poster_path</th>\n",
              "      <th>production_companies</th>\n",
              "      <th>production_countries</th>\n",
              "      <th>release_date</th>\n",
              "      <th>revenue</th>\n",
              "      <th>runtime</th>\n",
              "      <th>spoken_languages</th>\n",
              "      <th>status</th>\n",
              "      <th>tagline</th>\n",
              "      <th>title</th>\n",
              "      <th>video</th>\n",
              "      <th>vote_average</th>\n",
              "      <th>vote_count</th>\n",
              "    </tr>\n",
              "  </thead>\n",
              "  <tbody>\n",
              "    <tr>\n",
              "      <th>0</th>\n",
              "      <td>False</td>\n",
              "      <td>{'id': 10194, 'name': 'Toy Story Collection', ...</td>\n",
              "      <td>30000000</td>\n",
              "      <td>[{'id': 16, 'name': 'Animation'}, {'id': 35, '...</td>\n",
              "      <td>http://toystory.disney.com/toy-story</td>\n",
              "      <td>862</td>\n",
              "      <td>tt0114709</td>\n",
              "      <td>en</td>\n",
              "      <td>Toy Story</td>\n",
              "      <td>Led by Woody, Andy's toys live happily in his ...</td>\n",
              "      <td>21.946943</td>\n",
              "      <td>/rhIRbceoE9lR4veEXuwCC2wARtG.jpg</td>\n",
              "      <td>[{'name': 'Pixar Animation Studios', 'id': 3}]</td>\n",
              "      <td>[{'iso_3166_1': 'US', 'name': 'United States o...</td>\n",
              "      <td>1995-10-30</td>\n",
              "      <td>373554033.0</td>\n",
              "      <td>81.0</td>\n",
              "      <td>[{'iso_639_1': 'en', 'name': 'English'}]</td>\n",
              "      <td>Released</td>\n",
              "      <td>NaN</td>\n",
              "      <td>Toy Story</td>\n",
              "      <td>False</td>\n",
              "      <td>7.7</td>\n",
              "      <td>5415.0</td>\n",
              "    </tr>\n",
              "    <tr>\n",
              "      <th>1</th>\n",
              "      <td>False</td>\n",
              "      <td>NaN</td>\n",
              "      <td>65000000</td>\n",
              "      <td>[{'id': 12, 'name': 'Adventure'}, {'id': 14, '...</td>\n",
              "      <td>NaN</td>\n",
              "      <td>8844</td>\n",
              "      <td>tt0113497</td>\n",
              "      <td>en</td>\n",
              "      <td>Jumanji</td>\n",
              "      <td>When siblings Judy and Peter discover an encha...</td>\n",
              "      <td>17.015539</td>\n",
              "      <td>/vzmL6fP7aPKNKPRTFnZmiUfciyV.jpg</td>\n",
              "      <td>[{'name': 'TriStar Pictures', 'id': 559}, {'na...</td>\n",
              "      <td>[{'iso_3166_1': 'US', 'name': 'United States o...</td>\n",
              "      <td>1995-12-15</td>\n",
              "      <td>262797249.0</td>\n",
              "      <td>104.0</td>\n",
              "      <td>[{'iso_639_1': 'en', 'name': 'English'}, {'iso...</td>\n",
              "      <td>Released</td>\n",
              "      <td>Roll the dice and unleash the excitement!</td>\n",
              "      <td>Jumanji</td>\n",
              "      <td>False</td>\n",
              "      <td>6.9</td>\n",
              "      <td>2413.0</td>\n",
              "    </tr>\n",
              "    <tr>\n",
              "      <th>2</th>\n",
              "      <td>False</td>\n",
              "      <td>{'id': 119050, 'name': 'Grumpy Old Men Collect...</td>\n",
              "      <td>0</td>\n",
              "      <td>[{'id': 10749, 'name': 'Romance'}, {'id': 35, ...</td>\n",
              "      <td>NaN</td>\n",
              "      <td>15602</td>\n",
              "      <td>tt0113228</td>\n",
              "      <td>en</td>\n",
              "      <td>Grumpier Old Men</td>\n",
              "      <td>A family wedding reignites the ancient feud be...</td>\n",
              "      <td>11.712900</td>\n",
              "      <td>/6ksm1sjKMFLbO7UY2i6G1ju9SML.jpg</td>\n",
              "      <td>[{'name': 'Warner Bros.', 'id': 6194}, {'name'...</td>\n",
              "      <td>[{'iso_3166_1': 'US', 'name': 'United States o...</td>\n",
              "      <td>1995-12-22</td>\n",
              "      <td>0.0</td>\n",
              "      <td>101.0</td>\n",
              "      <td>[{'iso_639_1': 'en', 'name': 'English'}]</td>\n",
              "      <td>Released</td>\n",
              "      <td>Still Yelling. Still Fighting. Still Ready for...</td>\n",
              "      <td>Grumpier Old Men</td>\n",
              "      <td>False</td>\n",
              "      <td>6.5</td>\n",
              "      <td>92.0</td>\n",
              "    </tr>\n",
              "  </tbody>\n",
              "</table>\n",
              "</div>"
            ],
            "text/plain": [
              "   adult  ... vote_count\n",
              "0  False  ...     5415.0\n",
              "1  False  ...     2413.0\n",
              "2  False  ...       92.0\n",
              "\n",
              "[3 rows x 24 columns]"
            ]
          },
          "metadata": {},
          "execution_count": 2
        }
      ]
    },
    {
      "cell_type": "code",
      "metadata": {
        "colab": {
          "base_uri": "https://localhost:8080/"
        },
        "id": "_2Fu7EBhngyW",
        "outputId": "36667ba1-819d-4b23-bf7a-915d3bdf21c7"
      },
      "source": [
        "df_data.columns"
      ],
      "execution_count": 3,
      "outputs": [
        {
          "output_type": "execute_result",
          "data": {
            "text/plain": [
              "Index(['adult', 'belongs_to_collection', 'budget', 'genres', 'homepage', 'id',\n",
              "       'imdb_id', 'original_language', 'original_title', 'overview',\n",
              "       'popularity', 'poster_path', 'production_companies',\n",
              "       'production_countries', 'release_date', 'revenue', 'runtime',\n",
              "       'spoken_languages', 'status', 'tagline', 'title', 'video',\n",
              "       'vote_average', 'vote_count'],\n",
              "      dtype='object')"
            ]
          },
          "metadata": {},
          "execution_count": 3
        }
      ]
    },
    {
      "cell_type": "code",
      "metadata": {
        "colab": {
          "base_uri": "https://localhost:8080/"
        },
        "id": "WWATBw1Snoft",
        "outputId": "99770dd9-5169-4f3a-e54b-42143852da35"
      },
      "source": [
        "data = df_data.head(10000)\n",
        "data = data.dropna()\n",
        "data.info()  # 9888개 됨"
      ],
      "execution_count": 6,
      "outputs": [
        {
          "output_type": "stream",
          "text": [
            "<class 'pandas.core.frame.DataFrame'>\n",
            "Int64Index: 158 entries, 9 to 9888\n",
            "Data columns (total 24 columns):\n",
            " #   Column                 Non-Null Count  Dtype  \n",
            "---  ------                 --------------  -----  \n",
            " 0   adult                  158 non-null    bool   \n",
            " 1   belongs_to_collection  158 non-null    object \n",
            " 2   budget                 158 non-null    int64  \n",
            " 3   genres                 158 non-null    object \n",
            " 4   homepage               158 non-null    object \n",
            " 5   id                     158 non-null    int64  \n",
            " 6   imdb_id                158 non-null    object \n",
            " 7   original_language      158 non-null    object \n",
            " 8   original_title         158 non-null    object \n",
            " 9   overview               158 non-null    object \n",
            " 10  popularity             158 non-null    float64\n",
            " 11  poster_path            158 non-null    object \n",
            " 12  production_companies   158 non-null    object \n",
            " 13  production_countries   158 non-null    object \n",
            " 14  release_date           158 non-null    object \n",
            " 15  revenue                158 non-null    float64\n",
            " 16  runtime                158 non-null    float64\n",
            " 17  spoken_languages       158 non-null    object \n",
            " 18  status                 158 non-null    object \n",
            " 19  tagline                158 non-null    object \n",
            " 20  title                  158 non-null    object \n",
            " 21  video                  158 non-null    object \n",
            " 22  vote_average           158 non-null    float64\n",
            " 23  vote_count             158 non-null    float64\n",
            "dtypes: bool(1), float64(5), int64(2), object(16)\n",
            "memory usage: 29.8+ KB\n"
          ],
          "name": "stdout"
        }
      ]
    },
    {
      "cell_type": "code",
      "metadata": {
        "id": "YjxkP8x5nKFD"
      },
      "source": [
        "from sklearn.feature_extraction.text import TfidfVectorizer"
      ],
      "execution_count": 7,
      "outputs": []
    },
    {
      "cell_type": "code",
      "metadata": {
        "colab": {
          "base_uri": "https://localhost:8080/"
        },
        "id": "PpmCLPd3noVM",
        "outputId": "4de360be-770f-4fd4-aee9-09450dd6f2a1"
      },
      "source": [
        "tfidf = TfidfVectorizer()\n",
        "tfidf_matrix = tfidf.fit_transform(data['overview'])  # overview만 사용\n",
        "tfidf_matrix.shape  # 열의 값 = vocabulary 사이즈"
      ],
      "execution_count": 8,
      "outputs": [
        {
          "output_type": "execute_result",
          "data": {
            "text/plain": [
              "(158, 2696)"
            ]
          },
          "metadata": {},
          "execution_count": 8
        }
      ]
    },
    {
      "cell_type": "code",
      "metadata": {
        "colab": {
          "base_uri": "https://localhost:8080/"
        },
        "id": "an1qmVPpo4c2",
        "outputId": "afbcb0c3-cc8c-4499-d190-f59fd5105155"
      },
      "source": [
        "len(tfidf.vocabulary_)"
      ],
      "execution_count": 9,
      "outputs": [
        {
          "output_type": "execute_result",
          "data": {
            "text/plain": [
              "2696"
            ]
          },
          "metadata": {},
          "execution_count": 9
        }
      ]
    },
    {
      "cell_type": "code",
      "metadata": {
        "colab": {
          "base_uri": "https://localhost:8080/"
        },
        "id": "tBAoaYeqpGtC",
        "outputId": "627f49c0-4be4-4a02-f979-9925d50bf4bc"
      },
      "source": [
        "print(type(tfidf_matrix))  # sparse -> 0이 많이 들어있는 matrix\n",
        "print(tfidf_matrix[4].toarray())"
      ],
      "execution_count": 12,
      "outputs": [
        {
          "output_type": "stream",
          "text": [
            "<class 'scipy.sparse.csr.csr_matrix'>\n",
            "[[0. 0. 0. ... 0. 0. 0.]]\n"
          ],
          "name": "stdout"
        }
      ]
    },
    {
      "cell_type": "code",
      "metadata": {
        "id": "t6-F-cQYpQ1X"
      },
      "source": [
        "from sklearn.metrics.pairwise import linear_kernel"
      ],
      "execution_count": 13,
      "outputs": []
    },
    {
      "cell_type": "code",
      "metadata": {
        "colab": {
          "base_uri": "https://localhost:8080/"
        },
        "id": "5Y_UtwqpqFkz",
        "outputId": "b0ea69ed-83c8-420e-9110-6715f41b4f2e"
      },
      "source": [
        "cosin_sim = linear_kernel(tfidf_matrix, tfidf_matrix)\n",
        "type(cosin_sim), cosin_sim.shape"
      ],
      "execution_count": 15,
      "outputs": [
        {
          "output_type": "execute_result",
          "data": {
            "text/plain": [
              "(numpy.ndarray, (158, 158))"
            ]
          },
          "metadata": {},
          "execution_count": 15
        }
      ]
    },
    {
      "cell_type": "code",
      "metadata": {
        "colab": {
          "base_uri": "https://localhost:8080/"
        },
        "id": "IWE2EWcXqqa8",
        "outputId": "ee74e34b-e977-400d-9793-521bf9cffde9"
      },
      "source": [
        "print(cosin_sim[3])"
      ],
      "execution_count": 16,
      "outputs": [
        {
          "output_type": "stream",
          "text": [
            "[0.03403894 0.07378662 0.0606532  1.         0.05231864 0.05361942\n",
            " 0.04305033 0.01963748 0.03302958 0.04013632 0.05650286 0.04380791\n",
            " 0.045455   0.0360105  0.07208718 0.06037126 0.02463999 0.06438099\n",
            " 0.0261279  0.03232211 0.03084823 0.04654037 0.05100054 0.02586476\n",
            " 0.01778496 0.05746612 0.10967293 0.0282976  0.04640804 0.02406314\n",
            " 0.0671682  0.03956612 0.04875229 0.04437252 0.02699316 0.02809418\n",
            " 0.04223523 0.02060186 0.05070264 0.03129839 0.02382746 0.03403162\n",
            " 0.03612028 0.0502291  0.04674237 0.07158003 0.02806686 0.03066928\n",
            " 0.07962729 0.04691775 0.00644533 0.0481169  0.03853567 0.03240614\n",
            " 0.01586077 0.02972285 0.06138844 0.02404479 0.02269754 0.03191292\n",
            " 0.05483523 0.03238852 0.10369226 0.01014625 0.02365042 0.07221074\n",
            " 0.0937075  0.06614349 0.06212896 0.03717476 0.03104298 0.04467526\n",
            " 0.04421634 0.0348611  0.0419346  0.04463273 0.08416776 0.02689952\n",
            " 0.0765093  0.03427164 0.05688173 0.03798184 0.06100084 0.06977991\n",
            " 0.043257   0.06593067 0.07318941 0.03004147 0.07785691 0.03362121\n",
            " 0.04905523 0.05165596 0.0530247  0.03135838 0.03568706 0.01777612\n",
            " 0.02582292 0.06439404 0.09755842 0.04048298 0.02410179 0.11799301\n",
            " 0.02372764 0.03365979 0.0516431  0.03419398 0.05102216 0.03686381\n",
            " 0.05020573 0.         0.04703451 0.06167647 0.09303921 0.05049593\n",
            " 0.04349756 0.06190237 0.01970586 0.0232032  0.04319589 0.03768416\n",
            " 0.01250471 0.04833805 0.03121207 0.01953039 0.03584489 0.04046393\n",
            " 0.04644173 0.07827514 0.06894843 0.0402017  0.04454245 0.04634837\n",
            " 0.07287341 0.05707715 0.03935795 0.02696071 0.03522189 0.03972236\n",
            " 0.04045747 0.03815843 0.04161958 0.05359455 0.0795967  0.04720775\n",
            " 0.06361119 0.03409284 0.09568197 0.03113103 0.07496798 0.06092952\n",
            " 0.02241252 0.03758525 0.02565086 0.06497691 0.03866494 0.09101481\n",
            " 0.05321531 0.05776599]\n"
          ],
          "name": "stdout"
        }
      ]
    },
    {
      "cell_type": "code",
      "metadata": {
        "colab": {
          "base_uri": "https://localhost:8080/"
        },
        "id": "rczZ-DWkqvc2",
        "outputId": "4e33bb8b-f79e-44e6-b001-c388ed3983da"
      },
      "source": [
        "indices = pd.Series(data.index, index=data['title']).drop_duplicates()\n",
        "indices.head(5)"
      ],
      "execution_count": 18,
      "outputs": [
        {
          "output_type": "execute_result",
          "data": {
            "text/plain": [
              "title\n",
              "GoldenEye                                    9\n",
              "Friday                                      68\n",
              "From Dusk Till Dawn                         69\n",
              "Blue in the Face                           153\n",
              "Mighty Morphin Power Rangers: The Movie    178\n",
              "dtype: int64"
            ]
          },
          "metadata": {},
          "execution_count": 18
        }
      ]
    },
    {
      "cell_type": "code",
      "metadata": {
        "colab": {
          "base_uri": "https://localhost:8080/"
        },
        "id": "mQr2rnPcrwcv",
        "outputId": "21017125-8fe4-4a05-a949-3341356bbfe8"
      },
      "source": [
        "indices['From Dusk Till Dawn']"
      ],
      "execution_count": 20,
      "outputs": [
        {
          "output_type": "execute_result",
          "data": {
            "text/plain": [
              "69"
            ]
          },
          "metadata": {},
          "execution_count": 20
        }
      ]
    },
    {
      "cell_type": "code",
      "metadata": {
        "colab": {
          "base_uri": "https://localhost:8080/"
        },
        "id": "DZikz1-lsRuo",
        "outputId": "20d06a12-cd7e-403b-8159-d56c5d27832a"
      },
      "source": [
        "list(cosin_sim[69])  # 각각의 영화와 'From Dusk Till Dawn'간의 유사도를 나타낸 값\n",
        "sorted(list(cosin_sim[69]), reverse= True)[1:11]  # 유사도가 높은 순으로 정렬, 10등까지만 출력\n"
      ],
      "execution_count": 23,
      "outputs": [
        {
          "output_type": "execute_result",
          "data": {
            "text/plain": [
              "[0.15998660887787308,\n",
              " 0.14772757089625846,\n",
              " 0.13396597843861469,\n",
              " 0.12763954217361856,\n",
              " 0.12396013932603699,\n",
              " 0.1189225068324697,\n",
              " 0.11846245157106666,\n",
              " 0.11163546861489206,\n",
              " 0.10414294242114651,\n",
              " 0.1021239662265584]"
            ]
          },
          "metadata": {},
          "execution_count": 23
        }
      ]
    },
    {
      "cell_type": "code",
      "metadata": {
        "colab": {
          "base_uri": "https://localhost:8080/"
        },
        "id": "w9R6cR3CscS5",
        "outputId": "197d36f4-871c-44cc-f1ee-bc1e31e40535"
      },
      "source": [
        "cosin_list = list(enumerate(cosin_sim[69])) # 각각의 영화에 index값을 부여함\n",
        "print(cosin_list) "
      ],
      "execution_count": 24,
      "outputs": [
        {
          "output_type": "stream",
          "text": [
            "[(0, 0.0727441763199051), (1, 0.02892051203972273), (2, 0.02996503077446317), (3, 0.037174758464543475), (4, 0.02346836061741026), (5, 0.021246298385504493), (6, 0.03633447712794377), (7, 0.02409510202753557), (8, 0.06229400104850713), (9, 0.03702937763287602), (10, 0.02266926258350839), (11, 0.03550986180781372), (12, 0.04067791017893172), (13, 0.02258712427618866), (14, 0.055681642758578426), (15, 0.03285809837552814), (16, 0.008864996791036644), (17, 0.051654345203359445), (18, 0.036543295302026296), (19, 0.05436611020060969), (20, 0.033444124944652376), (21, 0.034369941078449484), (22, 0.015738855191422714), (23, 0.04867096565015526), (24, 0.0165640075249569), (25, 0.045349328897193536), (26, 0.046479507343680074), (27, 0.02335116601519331), (28, 0.03414460067128391), (29, 0.01880098894929399), (30, 0.03749684968923591), (31, 0.03495873912734175), (32, 0.028904142549040543), (33, 0.07653702067400137), (34, 0.0420053856954951), (35, 0.01887417858509342), (36, 0.03899075747625005), (37, 0.018905351270920575), (38, 0.0581371686844761), (39, 0.06256835081107805), (40, 0.06418018781492944), (41, 0.02818557476486423), (42, 0.012636801969483472), (43, 0.03411513362071413), (44, 0.022011528214427596), (45, 0.04084155794601536), (46, 0.023258756302241734), (47, 0.019434400902220792), (48, 0.011090334694260625), (49, 0.03129096914175193), (50, 0.04968739277034367), (51, 0.03873771943547791), (52, 0.034845850090862746), (53, 0.03605364586541966), (54, 0.0548995128641066), (55, 0.02896844624837778), (56, 0.12396013932603699), (57, 0.017560212468627247), (58, 0.022379533800444853), (59, 0.016716442893773248), (60, 0.028666856516304462), (61, 0.012784701549151406), (62, 0.1021239662265584), (63, 0.03605753708829086), (64, 0.01856145411679454), (65, 0.007536792238047464), (66, 0.03627565301897282), (67, 0.14772757089625846), (68, 0.07863939654572888), (69, 1.0000000000000002), (70, 0.06490919638216405), (71, 0.11846245157106666), (72, 0.06759477729852406), (73, 0.007901538716347259), (74, 0.11163546861489206), (75, 0.01962351198325638), (76, 0.01181452076934861), (77, 0.018959047441475984), (78, 0.0777240551998175), (79, 0.051627310335658996), (80, 0.06704982880658902), (81, 0.028672356399621114), (82, 0.07708831666547515), (83, 0.15998660887787308), (84, 0.06751206299021836), (85, 0.10414294242114651), (86, 0.04845924109409865), (87, 0.0717245949157262), (88, 0.10207971087196481), (89, 0.03816176849889954), (90, 0.09094390029051094), (91, 0.06753700009620281), (92, 0.049070838287092515), (93, 0.034855063923446575), (94, 0.024062479484665455), (95, 0.030183934970486534), (96, 0.06296895414834959), (97, 0.023769001423475638), (98, 0.030156580008166636), (99, 0.03376180402655872), (100, 0.061113241865163405), (101, 0.037795124213644886), (102, 0.013543880450032412), (103, 0.05214196347976607), (104, 0.017136047440244224), (105, 0.0545485044703303), (106, 0.03825794763419014), (107, 0.04060438050660771), (108, 0.03959379257603307), (109, 0.007428128800515271), (110, 0.04368412791359948), (111, 0.03345980038521615), (112, 0.07328169202429911), (113, 0.0689153492778048), (114, 0.04811438035541243), (115, 0.04703552901593579), (116, 0.014362995369105555), (117, 0.014307027867566774), (118, 0.06985103392068573), (119, 0.029171828881181305), (120, 0.006024975732732928), (121, 0.014747555638018852), (122, 0.030870304828824347), (123, 0.030274526518226395), (124, 0.053070918929712795), (125, 0.011049442309096387), (126, 0.05400170634573909), (127, 0.019459697602779054), (128, 0.016100559847618837), (129, 0.03879250264403164), (130, 0.028407275208326067), (131, 0.023713241492282357), (132, 0.04701350455478659), (133, 0.1189225068324697), (134, 0.055885332432776914), (135, 0.020799280936346448), (136, 0.04803360538836958), (137, 0.13396597843861469), (138, 0.12763954217361856), (139, 0.08967898602019628), (140, 0.07594087445235678), (141, 0.02408693980023397), (142, 0.08666987642376395), (143, 0.06478599766441434), (144, 0.028746339265731016), (145, 0.03514313566038776), (146, 0.0534815153722194), (147, 0.021863433525886794), (148, 0.05246406756710896), (149, 0.0948290631705181), (150, 0.006121010082791553), (151, 0.026997757361824554), (152, 0.03204387494829313), (153, 0.019101143576897628), (154, 0.041909783109255964), (155, 0.03110393121739402), (156, 0.042092553084743786), (157, 0.044729912840070066)]\n"
          ],
          "name": "stdout"
        }
      ]
    },
    {
      "cell_type": "code",
      "metadata": {
        "colab": {
          "base_uri": "https://localhost:8080/"
        },
        "id": "7Ds5ZwWZyIH3",
        "outputId": "cb3230da-e60b-4f7f-82f8-8b7a764beadc"
      },
      "source": [
        "cosin_index = sorted(cosin_list, key=lambda x:x[1] ,reverse= True)\n",
        "print(cosin_index[1:11])  # 자기 자신은 제외한 TOP10"
      ],
      "execution_count": 27,
      "outputs": [
        {
          "output_type": "stream",
          "text": [
            "[(83, 0.15998660887787308), (67, 0.14772757089625846), (137, 0.13396597843861469), (138, 0.12763954217361856), (56, 0.12396013932603699), (133, 0.1189225068324697), (71, 0.11846245157106666), (74, 0.11163546861489206), (85, 0.10414294242114651), (62, 0.1021239662265584)]\n"
          ],
          "name": "stdout"
        }
      ]
    },
    {
      "cell_type": "code",
      "metadata": {
        "colab": {
          "base_uri": "https://localhost:8080/"
        },
        "id": "uaCdnH0gyhlU",
        "outputId": "f5859eeb-0da8-4c44-9a62-ba1886cd0021"
      },
      "source": [
        "# for i in cosin_index:\n",
        "#   i[0]\n",
        "\n",
        "movie_indices =  [i[0] for i in cosin_index[1:11]]  # 타이틀을 찾기 위해 index 뽑기\n",
        "print(movie_indices)"
      ],
      "execution_count": 30,
      "outputs": [
        {
          "output_type": "stream",
          "text": [
            "[83, 67, 137, 138, 56, 133, 71, 74, 85, 62]\n"
          ],
          "name": "stdout"
        }
      ]
    },
    {
      "cell_type": "code",
      "metadata": {
        "colab": {
          "base_uri": "https://localhost:8080/"
        },
        "id": "k0UlmGKXzhP7",
        "outputId": "2cfb27fa-5b1c-4464-beea-555cc250988e"
      },
      "source": [
        "data['title'].iloc[movie_indices]"
      ],
      "execution_count": 34,
      "outputs": [
        {
          "output_type": "execute_result",
          "data": {
            "text/plain": [
              "3513                      The Spy Who Loved Me\n",
              "2832                     From Russia with Love\n",
              "7329                       You Only Live Twice\n",
              "7330                                 Octopussy\n",
              "2263                          A View to a Kill\n",
              "7192    Agent Cody Banks 2: Destination London\n",
              "2875                          Live and Let Die\n",
              "2965                   The World Is Not Enough\n",
              "3517               The Man with the Golden Gun\n",
              "2572                                    Tarzan\n",
              "Name: title, dtype: object"
            ]
          },
          "metadata": {},
          "execution_count": 34
        }
      ]
    },
    {
      "cell_type": "code",
      "metadata": {
        "id": "IqIdibHIz4qy"
      },
      "source": [
        ""
      ],
      "execution_count": null,
      "outputs": []
    }
  ]
}