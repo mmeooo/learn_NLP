{
  "nbformat": 4,
  "nbformat_minor": 0,
  "metadata": {
    "colab": {
      "name": "setencepiece.ipynb",
      "provenance": [],
      "collapsed_sections": [],
      "authorship_tag": "ABX9TyPvBbscu4HqK/YcnFDz5H6n"
    },
    "kernelspec": {
      "name": "python3",
      "display_name": "Python 3"
    },
    "language_info": {
      "name": "python"
    }
  },
  "cells": [
    {
      "cell_type": "code",
      "metadata": {
        "colab": {
          "base_uri": "https://localhost:8080/"
        },
        "id": "gynB66q_JW8P",
        "outputId": "d2c8726b-e7c2-44ff-85ab-9a97ec141c0a"
      },
      "source": [
        "!curl -O https://raw.githubusercontent.com/LawrenceDuan/IMDb-Review-Analysis/master/IMDb_Reviews.csv"
      ],
      "execution_count": 1,
      "outputs": [
        {
          "output_type": "stream",
          "text": [
            "  % Total    % Received % Xferd  Average Speed   Time    Time     Time  Current\n",
            "                                 Dload  Upload   Total   Spent    Left  Speed\n",
            "100 62.8M  100 62.8M    0     0  91.6M      0 --:--:-- --:--:-- --:--:-- 91.5M\n"
          ],
          "name": "stdout"
        }
      ]
    },
    {
      "cell_type": "code",
      "metadata": {
        "colab": {
          "base_uri": "https://localhost:8080/"
        },
        "id": "56rlTRPKJdNU",
        "outputId": "30757ce8-eab8-47fe-924f-a781965d3ee5"
      },
      "source": [
        "!python -m pip install sentencepiece"
      ],
      "execution_count": 5,
      "outputs": [
        {
          "output_type": "stream",
          "text": [
            "Collecting sentencepiece\n",
            "  Downloading sentencepiece-0.1.96-cp37-cp37m-manylinux_2_17_x86_64.manylinux2014_x86_64.whl (1.2 MB)\n",
            "\u001b[?25l\r\u001b[K     |▎                               | 10 kB 24.5 MB/s eta 0:00:01\r\u001b[K     |▌                               | 20 kB 30.5 MB/s eta 0:00:01\r\u001b[K     |▉                               | 30 kB 26.1 MB/s eta 0:00:01\r\u001b[K     |█                               | 40 kB 19.6 MB/s eta 0:00:01\r\u001b[K     |█▍                              | 51 kB 7.8 MB/s eta 0:00:01\r\u001b[K     |█▋                              | 61 kB 9.1 MB/s eta 0:00:01\r\u001b[K     |██                              | 71 kB 8.6 MB/s eta 0:00:01\r\u001b[K     |██▏                             | 81 kB 9.6 MB/s eta 0:00:01\r\u001b[K     |██▍                             | 92 kB 10.4 MB/s eta 0:00:01\r\u001b[K     |██▊                             | 102 kB 8.2 MB/s eta 0:00:01\r\u001b[K     |███                             | 112 kB 8.2 MB/s eta 0:00:01\r\u001b[K     |███▎                            | 122 kB 8.2 MB/s eta 0:00:01\r\u001b[K     |███▌                            | 133 kB 8.2 MB/s eta 0:00:01\r\u001b[K     |███▉                            | 143 kB 8.2 MB/s eta 0:00:01\r\u001b[K     |████                            | 153 kB 8.2 MB/s eta 0:00:01\r\u001b[K     |████▎                           | 163 kB 8.2 MB/s eta 0:00:01\r\u001b[K     |████▋                           | 174 kB 8.2 MB/s eta 0:00:01\r\u001b[K     |████▉                           | 184 kB 8.2 MB/s eta 0:00:01\r\u001b[K     |█████▏                          | 194 kB 8.2 MB/s eta 0:00:01\r\u001b[K     |█████▍                          | 204 kB 8.2 MB/s eta 0:00:01\r\u001b[K     |█████▊                          | 215 kB 8.2 MB/s eta 0:00:01\r\u001b[K     |██████                          | 225 kB 8.2 MB/s eta 0:00:01\r\u001b[K     |██████▏                         | 235 kB 8.2 MB/s eta 0:00:01\r\u001b[K     |██████▌                         | 245 kB 8.2 MB/s eta 0:00:01\r\u001b[K     |██████▊                         | 256 kB 8.2 MB/s eta 0:00:01\r\u001b[K     |███████                         | 266 kB 8.2 MB/s eta 0:00:01\r\u001b[K     |███████▎                        | 276 kB 8.2 MB/s eta 0:00:01\r\u001b[K     |███████▋                        | 286 kB 8.2 MB/s eta 0:00:01\r\u001b[K     |███████▉                        | 296 kB 8.2 MB/s eta 0:00:01\r\u001b[K     |████████                        | 307 kB 8.2 MB/s eta 0:00:01\r\u001b[K     |████████▍                       | 317 kB 8.2 MB/s eta 0:00:01\r\u001b[K     |████████▋                       | 327 kB 8.2 MB/s eta 0:00:01\r\u001b[K     |█████████                       | 337 kB 8.2 MB/s eta 0:00:01\r\u001b[K     |█████████▏                      | 348 kB 8.2 MB/s eta 0:00:01\r\u001b[K     |█████████▌                      | 358 kB 8.2 MB/s eta 0:00:01\r\u001b[K     |█████████▊                      | 368 kB 8.2 MB/s eta 0:00:01\r\u001b[K     |██████████                      | 378 kB 8.2 MB/s eta 0:00:01\r\u001b[K     |██████████▎                     | 389 kB 8.2 MB/s eta 0:00:01\r\u001b[K     |██████████▌                     | 399 kB 8.2 MB/s eta 0:00:01\r\u001b[K     |██████████▉                     | 409 kB 8.2 MB/s eta 0:00:01\r\u001b[K     |███████████                     | 419 kB 8.2 MB/s eta 0:00:01\r\u001b[K     |███████████▍                    | 430 kB 8.2 MB/s eta 0:00:01\r\u001b[K     |███████████▋                    | 440 kB 8.2 MB/s eta 0:00:01\r\u001b[K     |███████████▉                    | 450 kB 8.2 MB/s eta 0:00:01\r\u001b[K     |████████████▏                   | 460 kB 8.2 MB/s eta 0:00:01\r\u001b[K     |████████████▍                   | 471 kB 8.2 MB/s eta 0:00:01\r\u001b[K     |████████████▊                   | 481 kB 8.2 MB/s eta 0:00:01\r\u001b[K     |█████████████                   | 491 kB 8.2 MB/s eta 0:00:01\r\u001b[K     |█████████████▎                  | 501 kB 8.2 MB/s eta 0:00:01\r\u001b[K     |█████████████▌                  | 512 kB 8.2 MB/s eta 0:00:01\r\u001b[K     |█████████████▊                  | 522 kB 8.2 MB/s eta 0:00:01\r\u001b[K     |██████████████                  | 532 kB 8.2 MB/s eta 0:00:01\r\u001b[K     |██████████████▎                 | 542 kB 8.2 MB/s eta 0:00:01\r\u001b[K     |██████████████▋                 | 552 kB 8.2 MB/s eta 0:00:01\r\u001b[K     |██████████████▉                 | 563 kB 8.2 MB/s eta 0:00:01\r\u001b[K     |███████████████▏                | 573 kB 8.2 MB/s eta 0:00:01\r\u001b[K     |███████████████▍                | 583 kB 8.2 MB/s eta 0:00:01\r\u001b[K     |███████████████▋                | 593 kB 8.2 MB/s eta 0:00:01\r\u001b[K     |████████████████                | 604 kB 8.2 MB/s eta 0:00:01\r\u001b[K     |████████████████▏               | 614 kB 8.2 MB/s eta 0:00:01\r\u001b[K     |████████████████▌               | 624 kB 8.2 MB/s eta 0:00:01\r\u001b[K     |████████████████▊               | 634 kB 8.2 MB/s eta 0:00:01\r\u001b[K     |█████████████████               | 645 kB 8.2 MB/s eta 0:00:01\r\u001b[K     |█████████████████▎              | 655 kB 8.2 MB/s eta 0:00:01\r\u001b[K     |█████████████████▌              | 665 kB 8.2 MB/s eta 0:00:01\r\u001b[K     |█████████████████▉              | 675 kB 8.2 MB/s eta 0:00:01\r\u001b[K     |██████████████████              | 686 kB 8.2 MB/s eta 0:00:01\r\u001b[K     |██████████████████▍             | 696 kB 8.2 MB/s eta 0:00:01\r\u001b[K     |██████████████████▋             | 706 kB 8.2 MB/s eta 0:00:01\r\u001b[K     |███████████████████             | 716 kB 8.2 MB/s eta 0:00:01\r\u001b[K     |███████████████████▏            | 727 kB 8.2 MB/s eta 0:00:01\r\u001b[K     |███████████████████▍            | 737 kB 8.2 MB/s eta 0:00:01\r\u001b[K     |███████████████████▊            | 747 kB 8.2 MB/s eta 0:00:01\r\u001b[K     |████████████████████            | 757 kB 8.2 MB/s eta 0:00:01\r\u001b[K     |████████████████████▎           | 768 kB 8.2 MB/s eta 0:00:01\r\u001b[K     |████████████████████▌           | 778 kB 8.2 MB/s eta 0:00:01\r\u001b[K     |████████████████████▉           | 788 kB 8.2 MB/s eta 0:00:01\r\u001b[K     |█████████████████████           | 798 kB 8.2 MB/s eta 0:00:01\r\u001b[K     |█████████████████████▎          | 808 kB 8.2 MB/s eta 0:00:01\r\u001b[K     |█████████████████████▋          | 819 kB 8.2 MB/s eta 0:00:01\r\u001b[K     |█████████████████████▉          | 829 kB 8.2 MB/s eta 0:00:01\r\u001b[K     |██████████████████████▏         | 839 kB 8.2 MB/s eta 0:00:01\r\u001b[K     |██████████████████████▍         | 849 kB 8.2 MB/s eta 0:00:01\r\u001b[K     |██████████████████████▊         | 860 kB 8.2 MB/s eta 0:00:01\r\u001b[K     |███████████████████████         | 870 kB 8.2 MB/s eta 0:00:01\r\u001b[K     |███████████████████████▏        | 880 kB 8.2 MB/s eta 0:00:01\r\u001b[K     |███████████████████████▌        | 890 kB 8.2 MB/s eta 0:00:01\r\u001b[K     |███████████████████████▊        | 901 kB 8.2 MB/s eta 0:00:01\r\u001b[K     |████████████████████████        | 911 kB 8.2 MB/s eta 0:00:01\r\u001b[K     |████████████████████████▎       | 921 kB 8.2 MB/s eta 0:00:01\r\u001b[K     |████████████████████████▋       | 931 kB 8.2 MB/s eta 0:00:01\r\u001b[K     |████████████████████████▉       | 942 kB 8.2 MB/s eta 0:00:01\r\u001b[K     |█████████████████████████       | 952 kB 8.2 MB/s eta 0:00:01\r\u001b[K     |█████████████████████████▍      | 962 kB 8.2 MB/s eta 0:00:01\r\u001b[K     |█████████████████████████▋      | 972 kB 8.2 MB/s eta 0:00:01\r\u001b[K     |██████████████████████████      | 983 kB 8.2 MB/s eta 0:00:01\r\u001b[K     |██████████████████████████▏     | 993 kB 8.2 MB/s eta 0:00:01\r\u001b[K     |██████████████████████████▌     | 1.0 MB 8.2 MB/s eta 0:00:01\r\u001b[K     |██████████████████████████▊     | 1.0 MB 8.2 MB/s eta 0:00:01\r\u001b[K     |███████████████████████████     | 1.0 MB 8.2 MB/s eta 0:00:01\r\u001b[K     |███████████████████████████▎    | 1.0 MB 8.2 MB/s eta 0:00:01\r\u001b[K     |███████████████████████████▌    | 1.0 MB 8.2 MB/s eta 0:00:01\r\u001b[K     |███████████████████████████▉    | 1.1 MB 8.2 MB/s eta 0:00:01\r\u001b[K     |████████████████████████████    | 1.1 MB 8.2 MB/s eta 0:00:01\r\u001b[K     |████████████████████████████▍   | 1.1 MB 8.2 MB/s eta 0:00:01\r\u001b[K     |████████████████████████████▋   | 1.1 MB 8.2 MB/s eta 0:00:01\r\u001b[K     |████████████████████████████▉   | 1.1 MB 8.2 MB/s eta 0:00:01\r\u001b[K     |█████████████████████████████▏  | 1.1 MB 8.2 MB/s eta 0:00:01\r\u001b[K     |█████████████████████████████▍  | 1.1 MB 8.2 MB/s eta 0:00:01\r\u001b[K     |█████████████████████████████▊  | 1.1 MB 8.2 MB/s eta 0:00:01\r\u001b[K     |██████████████████████████████  | 1.1 MB 8.2 MB/s eta 0:00:01\r\u001b[K     |██████████████████████████████▎ | 1.1 MB 8.2 MB/s eta 0:00:01\r\u001b[K     |██████████████████████████████▌ | 1.2 MB 8.2 MB/s eta 0:00:01\r\u001b[K     |██████████████████████████████▊ | 1.2 MB 8.2 MB/s eta 0:00:01\r\u001b[K     |███████████████████████████████ | 1.2 MB 8.2 MB/s eta 0:00:01\r\u001b[K     |███████████████████████████████▎| 1.2 MB 8.2 MB/s eta 0:00:01\r\u001b[K     |███████████████████████████████▋| 1.2 MB 8.2 MB/s eta 0:00:01\r\u001b[K     |███████████████████████████████▉| 1.2 MB 8.2 MB/s eta 0:00:01\r\u001b[K     |████████████████████████████████| 1.2 MB 8.2 MB/s \n",
            "\u001b[?25hInstalling collected packages: sentencepiece\n",
            "Successfully installed sentencepiece-0.1.96\n"
          ],
          "name": "stdout"
        }
      ]
    },
    {
      "cell_type": "code",
      "metadata": {
        "id": "Bp-8xJXfJdKm"
      },
      "source": [
        "import sentencepiece as spm"
      ],
      "execution_count": 8,
      "outputs": []
    },
    {
      "cell_type": "code",
      "metadata": {
        "id": "920rIV-gJYQY"
      },
      "source": [
        "import pandas as pd"
      ],
      "execution_count": 2,
      "outputs": []
    },
    {
      "cell_type": "code",
      "metadata": {
        "colab": {
          "base_uri": "https://localhost:8080/",
          "height": 142
        },
        "id": "kXldjaQtJeXb",
        "outputId": "eba33e31-adda-44fa-ae04-f78372a630f6"
      },
      "source": [
        "df_data = pd.read_csv('./IMDb_Reviews.csv')\n",
        "df_data.head(3)"
      ],
      "execution_count": 3,
      "outputs": [
        {
          "output_type": "execute_result",
          "data": {
            "text/html": [
              "<div>\n",
              "<style scoped>\n",
              "    .dataframe tbody tr th:only-of-type {\n",
              "        vertical-align: middle;\n",
              "    }\n",
              "\n",
              "    .dataframe tbody tr th {\n",
              "        vertical-align: top;\n",
              "    }\n",
              "\n",
              "    .dataframe thead th {\n",
              "        text-align: right;\n",
              "    }\n",
              "</style>\n",
              "<table border=\"1\" class=\"dataframe\">\n",
              "  <thead>\n",
              "    <tr style=\"text-align: right;\">\n",
              "      <th></th>\n",
              "      <th>review</th>\n",
              "      <th>sentiment</th>\n",
              "    </tr>\n",
              "  </thead>\n",
              "  <tbody>\n",
              "    <tr>\n",
              "      <th>0</th>\n",
              "      <td>My family and I normally do not watch local mo...</td>\n",
              "      <td>1</td>\n",
              "    </tr>\n",
              "    <tr>\n",
              "      <th>1</th>\n",
              "      <td>Believe it or not, this was at one time the wo...</td>\n",
              "      <td>0</td>\n",
              "    </tr>\n",
              "    <tr>\n",
              "      <th>2</th>\n",
              "      <td>After some internet surfing, I found the \"Home...</td>\n",
              "      <td>0</td>\n",
              "    </tr>\n",
              "  </tbody>\n",
              "</table>\n",
              "</div>"
            ],
            "text/plain": [
              "                                              review  sentiment\n",
              "0  My family and I normally do not watch local mo...          1\n",
              "1  Believe it or not, this was at one time the wo...          0\n",
              "2  After some internet surfing, I found the \"Home...          0"
            ]
          },
          "metadata": {},
          "execution_count": 3
        }
      ]
    },
    {
      "cell_type": "code",
      "metadata": {
        "id": "T9nloCnOLwfV"
      },
      "source": [
        "df_data = df_data[0:2000]"
      ],
      "execution_count": 9,
      "outputs": []
    },
    {
      "cell_type": "code",
      "metadata": {
        "id": "xDOiBvkTKQM5"
      },
      "source": [
        "with open('imdb_review.txt', 'w') as f:\n",
        "  f.write('\\n'.join(df_data['review']))"
      ],
      "execution_count": 11,
      "outputs": []
    },
    {
      "cell_type": "code",
      "metadata": {
        "id": "H9FPFMxbLNfN"
      },
      "source": [
        "spm.SentencePieceTrainer.Train('--input=./imdb_review.txt --model_prefix=imdb --vocab_size=5000 --model_type=bpe --max_sentence_length=9999')"
      ],
      "execution_count": 12,
      "outputs": []
    },
    {
      "cell_type": "code",
      "metadata": {
        "id": "Y0h8usNEOPlv"
      },
      "source": [
        "import csv"
      ],
      "execution_count": 13,
      "outputs": []
    },
    {
      "cell_type": "code",
      "metadata": {
        "colab": {
          "base_uri": "https://localhost:8080/",
          "height": 357
        },
        "id": "Rhc8nIVsMo95",
        "outputId": "73c76f4f-6e0b-40b2-eb8a-cf420f8aae86"
      },
      "source": [
        "df_vocab = pd.read_csv('./imdb.vocab', sep='\\t', quoting=csv.QUOTE_NONE, header=None)\n",
        "df_vocab.sample(10)"
      ],
      "execution_count": 17,
      "outputs": [
        {
          "output_type": "execute_result",
          "data": {
            "text/html": [
              "<div>\n",
              "<style scoped>\n",
              "    .dataframe tbody tr th:only-of-type {\n",
              "        vertical-align: middle;\n",
              "    }\n",
              "\n",
              "    .dataframe tbody tr th {\n",
              "        vertical-align: top;\n",
              "    }\n",
              "\n",
              "    .dataframe thead th {\n",
              "        text-align: right;\n",
              "    }\n",
              "</style>\n",
              "<table border=\"1\" class=\"dataframe\">\n",
              "  <thead>\n",
              "    <tr style=\"text-align: right;\">\n",
              "      <th></th>\n",
              "      <th>0</th>\n",
              "      <th>1</th>\n",
              "    </tr>\n",
              "  </thead>\n",
              "  <tbody>\n",
              "    <tr>\n",
              "      <th>2166</th>\n",
              "      <td>▁background</td>\n",
              "      <td>-2163</td>\n",
              "    </tr>\n",
              "    <tr>\n",
              "      <th>3482</th>\n",
              "      <td>nment</td>\n",
              "      <td>-3479</td>\n",
              "    </tr>\n",
              "    <tr>\n",
              "      <th>539</th>\n",
              "      <td>▁min</td>\n",
              "      <td>-536</td>\n",
              "    </tr>\n",
              "    <tr>\n",
              "      <th>3879</th>\n",
              "      <td>▁producers</td>\n",
              "      <td>-3876</td>\n",
              "    </tr>\n",
              "    <tr>\n",
              "      <th>2721</th>\n",
              "      <td>▁killing</td>\n",
              "      <td>-2718</td>\n",
              "    </tr>\n",
              "    <tr>\n",
              "      <th>2929</th>\n",
              "      <td>▁laugha</td>\n",
              "      <td>-2926</td>\n",
              "    </tr>\n",
              "    <tr>\n",
              "      <th>476</th>\n",
              "      <td>▁fl</td>\n",
              "      <td>-473</td>\n",
              "    </tr>\n",
              "    <tr>\n",
              "      <th>3134</th>\n",
              "      <td>▁embarrass</td>\n",
              "      <td>-3131</td>\n",
              "    </tr>\n",
              "    <tr>\n",
              "      <th>1615</th>\n",
              "      <td>▁drama</td>\n",
              "      <td>-1612</td>\n",
              "    </tr>\n",
              "    <tr>\n",
              "      <th>329</th>\n",
              "      <td>▁per</td>\n",
              "      <td>-326</td>\n",
              "    </tr>\n",
              "  </tbody>\n",
              "</table>\n",
              "</div>"
            ],
            "text/plain": [
              "                0     1\n",
              "2166  ▁background -2163\n",
              "3482        nment -3479\n",
              "539          ▁min  -536\n",
              "3879   ▁producers -3876\n",
              "2721     ▁killing -2718\n",
              "2929      ▁laugha -2926\n",
              "476           ▁fl  -473\n",
              "3134   ▁embarrass -3131\n",
              "1615       ▁drama -1612\n",
              "329          ▁per  -326"
            ]
          },
          "metadata": {},
          "execution_count": 17
        }
      ]
    },
    {
      "cell_type": "markdown",
      "metadata": {
        "id": "qHwzKDl0OxDr"
      },
      "source": [
        "- 1열의 숫자 : 단어의 unique 한 값\n",
        "- 단어 앞에 붙는 `_`: 앞 단어와 뒷 단어의 연관성을 나타냄"
      ]
    },
    {
      "cell_type": "code",
      "metadata": {
        "colab": {
          "base_uri": "https://localhost:8080/",
          "height": 265
        },
        "id": "Lvlb83MtOS_Q",
        "outputId": "0f1270df-a246-4963-af8f-db4addb961b5"
      },
      "source": [
        "df_vocab.head(7)"
      ],
      "execution_count": 18,
      "outputs": [
        {
          "output_type": "execute_result",
          "data": {
            "text/html": [
              "<div>\n",
              "<style scoped>\n",
              "    .dataframe tbody tr th:only-of-type {\n",
              "        vertical-align: middle;\n",
              "    }\n",
              "\n",
              "    .dataframe tbody tr th {\n",
              "        vertical-align: top;\n",
              "    }\n",
              "\n",
              "    .dataframe thead th {\n",
              "        text-align: right;\n",
              "    }\n",
              "</style>\n",
              "<table border=\"1\" class=\"dataframe\">\n",
              "  <thead>\n",
              "    <tr style=\"text-align: right;\">\n",
              "      <th></th>\n",
              "      <th>0</th>\n",
              "      <th>1</th>\n",
              "    </tr>\n",
              "  </thead>\n",
              "  <tbody>\n",
              "    <tr>\n",
              "      <th>0</th>\n",
              "      <td>&lt;unk&gt;</td>\n",
              "      <td>0</td>\n",
              "    </tr>\n",
              "    <tr>\n",
              "      <th>1</th>\n",
              "      <td>&lt;s&gt;</td>\n",
              "      <td>0</td>\n",
              "    </tr>\n",
              "    <tr>\n",
              "      <th>2</th>\n",
              "      <td>&lt;/s&gt;</td>\n",
              "      <td>0</td>\n",
              "    </tr>\n",
              "    <tr>\n",
              "      <th>3</th>\n",
              "      <td>▁t</td>\n",
              "      <td>0</td>\n",
              "    </tr>\n",
              "    <tr>\n",
              "      <th>4</th>\n",
              "      <td>▁a</td>\n",
              "      <td>-1</td>\n",
              "    </tr>\n",
              "    <tr>\n",
              "      <th>5</th>\n",
              "      <td>he</td>\n",
              "      <td>-2</td>\n",
              "    </tr>\n",
              "    <tr>\n",
              "      <th>6</th>\n",
              "      <td>in</td>\n",
              "      <td>-3</td>\n",
              "    </tr>\n",
              "  </tbody>\n",
              "</table>\n",
              "</div>"
            ],
            "text/plain": [
              "       0  1\n",
              "0  <unk>  0\n",
              "1    <s>  0\n",
              "2   </s>  0\n",
              "3     ▁t  0\n",
              "4     ▁a -1\n",
              "5     he -2\n",
              "6     in -3"
            ]
          },
          "metadata": {},
          "execution_count": 18
        }
      ]
    },
    {
      "cell_type": "markdown",
      "metadata": {
        "id": "23qBghlEPM1B"
      },
      "source": [
        "- 문장이 시작될 때 특정 기호가 들어감"
      ]
    },
    {
      "cell_type": "code",
      "metadata": {
        "colab": {
          "base_uri": "https://localhost:8080/"
        },
        "id": "q3qH02MVOvJX",
        "outputId": "8dfcba82-55bb-4b8e-91a5-50de975d3c34"
      },
      "source": [
        "spp = spm.SentencePieceProcessor()\n",
        "spp.load('./imdb.model')"
      ],
      "execution_count": 19,
      "outputs": [
        {
          "output_type": "execute_result",
          "data": {
            "text/plain": [
              "True"
            ]
          },
          "metadata": {},
          "execution_count": 19
        }
      ]
    },
    {
      "cell_type": "code",
      "metadata": {
        "id": "gHzVq-X2P_pu"
      },
      "source": [
        "line01 = \"I didn't at all think of it this way.\""
      ],
      "execution_count": 21,
      "outputs": []
    },
    {
      "cell_type": "code",
      "metadata": {
        "colab": {
          "base_uri": "https://localhost:8080/"
        },
        "id": "WTq2RzPkQIPl",
        "outputId": "c282a034-5341-444e-e637-979cb93199c2"
      },
      "source": [
        "print(spp.encode_as_pieces(line01))\n",
        "\n",
        "# 앞 단어, 뒷 단어의 연관성도 보여줌 "
      ],
      "execution_count": 23,
      "outputs": [
        {
          "output_type": "stream",
          "text": [
            "['▁I', '▁didn', \"'\", 't', '▁at', '▁all', '▁think', '▁of', '▁it', '▁this', '▁way', '.']\n"
          ],
          "name": "stdout"
        }
      ]
    },
    {
      "cell_type": "code",
      "metadata": {
        "colab": {
          "base_uri": "https://localhost:8080/"
        },
        "id": "rkw28ms_QdVF",
        "outputId": "46107432-f548-40a7-a311-4ca81e0958b5"
      },
      "source": [
        "print(spp.encode_as_ids(line01))\n",
        "\n",
        "# vocabulary를 기준으로 인덱스를 부여함"
      ],
      "execution_count": 24,
      "outputs": [
        {
          "output_type": "stream",
          "text": [
            "[40, 588, 4949, 4926, 136, 175, 400, 30, 56, 77, 418, 4945]\n"
          ],
          "name": "stdout"
        }
      ]
    },
    {
      "cell_type": "code",
      "metadata": {
        "id": "_71XzST4RAJt"
      },
      "source": [
        ""
      ],
      "execution_count": null,
      "outputs": []
    }
  ]
}