{
  "nbformat": 4,
  "nbformat_minor": 0,
  "metadata": {
    "colab": {
      "name": "topicmodeling_LDA.ipynb",
      "provenance": [],
      "collapsed_sections": [],
      "authorship_tag": "ABX9TyMTvsnRUDSd3oUwyIzA0qmj"
    },
    "kernelspec": {
      "name": "python3",
      "display_name": "Python 3"
    },
    "language_info": {
      "name": "python"
    }
  },
  "cells": [
    {
      "cell_type": "markdown",
      "metadata": {
        "id": "eSQ2t-slmB1o"
      },
      "source": [
        "## from https://wikidocs.net/30707\n"
      ]
    },
    {
      "cell_type": "code",
      "metadata": {
        "id": "T7tmZ7O2mBTq",
        "colab": {
          "base_uri": "https://localhost:8080/"
        },
        "outputId": "cea79940-5b7a-4398-9511-471a6d1545f4"
      },
      "source": [
        "!curl -O https://raw.githubusercontent.com/franciscadias/data/master/abcnews-date-text.csv\n",
        "\n",
        "# 15년간 발행된 뉴스의 기사 제목 데이터"
      ],
      "execution_count": 1,
      "outputs": [
        {
          "output_type": "stream",
          "text": [
            "  % Total    % Received % Xferd  Average Speed   Time    Time     Time  Current\n",
            "                                 Dload  Upload   Total   Spent    Left  Speed\n",
            "100 51.5M  100 51.5M    0     0   150M      0 --:--:-- --:--:-- --:--:--  150M\n"
          ],
          "name": "stdout"
        }
      ]
    },
    {
      "cell_type": "code",
      "metadata": {
        "id": "38fgVn4z57xF"
      },
      "source": [
        "import pandas as pd"
      ],
      "execution_count": 2,
      "outputs": []
    },
    {
      "cell_type": "code",
      "metadata": {
        "colab": {
          "base_uri": "https://localhost:8080/",
          "height": 203
        },
        "id": "1fhnucvN6NIR",
        "outputId": "4333af9d-a03c-4050-9916-7e9ea2c13fe8"
      },
      "source": [
        "df_data = pd.read_csv('./abcnews-date-text.csv')\n",
        "df_data.head(5)"
      ],
      "execution_count": 4,
      "outputs": [
        {
          "output_type": "execute_result",
          "data": {
            "text/html": [
              "<div>\n",
              "<style scoped>\n",
              "    .dataframe tbody tr th:only-of-type {\n",
              "        vertical-align: middle;\n",
              "    }\n",
              "\n",
              "    .dataframe tbody tr th {\n",
              "        vertical-align: top;\n",
              "    }\n",
              "\n",
              "    .dataframe thead th {\n",
              "        text-align: right;\n",
              "    }\n",
              "</style>\n",
              "<table border=\"1\" class=\"dataframe\">\n",
              "  <thead>\n",
              "    <tr style=\"text-align: right;\">\n",
              "      <th></th>\n",
              "      <th>publish_date</th>\n",
              "      <th>headline_text</th>\n",
              "    </tr>\n",
              "  </thead>\n",
              "  <tbody>\n",
              "    <tr>\n",
              "      <th>0</th>\n",
              "      <td>20030219</td>\n",
              "      <td>aba decides against community broadcasting lic...</td>\n",
              "    </tr>\n",
              "    <tr>\n",
              "      <th>1</th>\n",
              "      <td>20030219</td>\n",
              "      <td>act fire witnesses must be aware of defamation</td>\n",
              "    </tr>\n",
              "    <tr>\n",
              "      <th>2</th>\n",
              "      <td>20030219</td>\n",
              "      <td>a g calls for infrastructure protection summit</td>\n",
              "    </tr>\n",
              "    <tr>\n",
              "      <th>3</th>\n",
              "      <td>20030219</td>\n",
              "      <td>air nz staff in aust strike for pay rise</td>\n",
              "    </tr>\n",
              "    <tr>\n",
              "      <th>4</th>\n",
              "      <td>20030219</td>\n",
              "      <td>air nz strike to affect australian travellers</td>\n",
              "    </tr>\n",
              "  </tbody>\n",
              "</table>\n",
              "</div>"
            ],
            "text/plain": [
              "   publish_date                                      headline_text\n",
              "0      20030219  aba decides against community broadcasting lic...\n",
              "1      20030219     act fire witnesses must be aware of defamation\n",
              "2      20030219     a g calls for infrastructure protection summit\n",
              "3      20030219           air nz staff in aust strike for pay rise\n",
              "4      20030219      air nz strike to affect australian travellers"
            ]
          },
          "metadata": {},
          "execution_count": 4
        }
      ]
    },
    {
      "cell_type": "code",
      "metadata": {
        "id": "cJg3R-j1AmQL"
      },
      "source": [
        "df_data = df_data.head(10000)"
      ],
      "execution_count": 25,
      "outputs": []
    },
    {
      "cell_type": "code",
      "metadata": {
        "colab": {
          "base_uri": "https://localhost:8080/"
        },
        "id": "S6BrLr4l6WnG",
        "outputId": "6b28b54c-ae5c-4301-e7d2-3394ffab9b1e"
      },
      "source": [
        "head_text = df_data[['headline_text']]\n",
        "type(head_text)"
      ],
      "execution_count": 26,
      "outputs": [
        {
          "output_type": "execute_result",
          "data": {
            "text/plain": [
              "pandas.core.frame.DataFrame"
            ]
          },
          "metadata": {},
          "execution_count": 26
        }
      ]
    },
    {
      "cell_type": "markdown",
      "metadata": {
        "id": "97k263n6BF2p"
      },
      "source": [
        "## Data preprocessing"
      ]
    },
    {
      "cell_type": "code",
      "metadata": {
        "colab": {
          "base_uri": "https://localhost:8080/"
        },
        "id": "Ood8oaOf7AVQ",
        "outputId": "7d6273aa-6c20-4527-c73e-fff485a23109"
      },
      "source": [
        "import nltk\n",
        "nltk.download('punkt')"
      ],
      "execution_count": 27,
      "outputs": [
        {
          "output_type": "stream",
          "text": [
            "[nltk_data] Downloading package punkt to /root/nltk_data...\n",
            "[nltk_data]   Package punkt is already up-to-date!\n"
          ],
          "name": "stdout"
        },
        {
          "output_type": "execute_result",
          "data": {
            "text/plain": [
              "True"
            ]
          },
          "metadata": {},
          "execution_count": 27
        }
      ]
    },
    {
      "cell_type": "code",
      "metadata": {
        "colab": {
          "base_uri": "https://localhost:8080/",
          "height": 142
        },
        "id": "FuiDF3KE7jGd",
        "outputId": "df0ce7bd-ede5-4625-a5b4-0dc8e54b139c"
      },
      "source": [
        "# apply : map() 같은 기능 \n",
        "\n",
        "head_text['title_text'] = head_text.apply(lambda row : nltk.word_tokenize(row['headline_text']), axis=1)  \n",
        "# 텍스트화 \n",
        "head_text.head(3)"
      ],
      "execution_count": 28,
      "outputs": [
        {
          "output_type": "execute_result",
          "data": {
            "text/html": [
              "<div>\n",
              "<style scoped>\n",
              "    .dataframe tbody tr th:only-of-type {\n",
              "        vertical-align: middle;\n",
              "    }\n",
              "\n",
              "    .dataframe tbody tr th {\n",
              "        vertical-align: top;\n",
              "    }\n",
              "\n",
              "    .dataframe thead th {\n",
              "        text-align: right;\n",
              "    }\n",
              "</style>\n",
              "<table border=\"1\" class=\"dataframe\">\n",
              "  <thead>\n",
              "    <tr style=\"text-align: right;\">\n",
              "      <th></th>\n",
              "      <th>headline_text</th>\n",
              "      <th>title_text</th>\n",
              "    </tr>\n",
              "  </thead>\n",
              "  <tbody>\n",
              "    <tr>\n",
              "      <th>0</th>\n",
              "      <td>aba decides against community broadcasting lic...</td>\n",
              "      <td>[aba, decides, against, community, broadcastin...</td>\n",
              "    </tr>\n",
              "    <tr>\n",
              "      <th>1</th>\n",
              "      <td>act fire witnesses must be aware of defamation</td>\n",
              "      <td>[act, fire, witnesses, must, be, aware, of, de...</td>\n",
              "    </tr>\n",
              "    <tr>\n",
              "      <th>2</th>\n",
              "      <td>a g calls for infrastructure protection summit</td>\n",
              "      <td>[a, g, calls, for, infrastructure, protection,...</td>\n",
              "    </tr>\n",
              "  </tbody>\n",
              "</table>\n",
              "</div>"
            ],
            "text/plain": [
              "                                       headline_text                                         title_text\n",
              "0  aba decides against community broadcasting lic...  [aba, decides, against, community, broadcastin...\n",
              "1     act fire witnesses must be aware of defamation  [act, fire, witnesses, must, be, aware, of, de...\n",
              "2     a g calls for infrastructure protection summit  [a, g, calls, for, infrastructure, protection,..."
            ]
          },
          "metadata": {},
          "execution_count": 28
        }
      ]
    },
    {
      "cell_type": "code",
      "metadata": {
        "colab": {
          "base_uri": "https://localhost:8080/"
        },
        "id": "ix0sa5j8-vki",
        "outputId": "59c47512-dc2a-4fd8-fa21-8cdf323979af"
      },
      "source": [
        "from nltk.corpus import stopwords\n",
        "nltk.download('stopwords')"
      ],
      "execution_count": 30,
      "outputs": [
        {
          "output_type": "stream",
          "text": [
            "[nltk_data] Downloading package stopwords to /root/nltk_data...\n",
            "[nltk_data]   Unzipping corpora/stopwords.zip.\n"
          ],
          "name": "stdout"
        },
        {
          "output_type": "execute_result",
          "data": {
            "text/plain": [
              "True"
            ]
          },
          "metadata": {},
          "execution_count": 30
        }
      ]
    },
    {
      "cell_type": "code",
      "metadata": {
        "colab": {
          "base_uri": "https://localhost:8080/"
        },
        "id": "3d0FXoAUBCN6",
        "outputId": "94edfc1a-56ea-4a28-930f-2475951975c5"
      },
      "source": [
        "stop = stopwords.words('english')\n",
        "print(stop)"
      ],
      "execution_count": 32,
      "outputs": [
        {
          "output_type": "stream",
          "text": [
            "['i', 'me', 'my', 'myself', 'we', 'our', 'ours', 'ourselves', 'you', \"you're\", \"you've\", \"you'll\", \"you'd\", 'your', 'yours', 'yourself', 'yourselves', 'he', 'him', 'his', 'himself', 'she', \"she's\", 'her', 'hers', 'herself', 'it', \"it's\", 'its', 'itself', 'they', 'them', 'their', 'theirs', 'themselves', 'what', 'which', 'who', 'whom', 'this', 'that', \"that'll\", 'these', 'those', 'am', 'is', 'are', 'was', 'were', 'be', 'been', 'being', 'have', 'has', 'had', 'having', 'do', 'does', 'did', 'doing', 'a', 'an', 'the', 'and', 'but', 'if', 'or', 'because', 'as', 'until', 'while', 'of', 'at', 'by', 'for', 'with', 'about', 'against', 'between', 'into', 'through', 'during', 'before', 'after', 'above', 'below', 'to', 'from', 'up', 'down', 'in', 'out', 'on', 'off', 'over', 'under', 'again', 'further', 'then', 'once', 'here', 'there', 'when', 'where', 'why', 'how', 'all', 'any', 'both', 'each', 'few', 'more', 'most', 'other', 'some', 'such', 'no', 'nor', 'not', 'only', 'own', 'same', 'so', 'than', 'too', 'very', 's', 't', 'can', 'will', 'just', 'don', \"don't\", 'should', \"should've\", 'now', 'd', 'll', 'm', 'o', 're', 've', 'y', 'ain', 'aren', \"aren't\", 'couldn', \"couldn't\", 'didn', \"didn't\", 'doesn', \"doesn't\", 'hadn', \"hadn't\", 'hasn', \"hasn't\", 'haven', \"haven't\", 'isn', \"isn't\", 'ma', 'mightn', \"mightn't\", 'mustn', \"mustn't\", 'needn', \"needn't\", 'shan', \"shan't\", 'shouldn', \"shouldn't\", 'wasn', \"wasn't\", 'weren', \"weren't\", 'won', \"won't\", 'wouldn', \"wouldn't\"]\n"
          ],
          "name": "stdout"
        }
      ]
    },
    {
      "cell_type": "markdown",
      "metadata": {
        "id": "PuqhJiRkDoi0"
      },
      "source": [
        "길이가 3 이하인 것도 불용어 처리하기\n",
        "```\n",
        "def stopWord(head_text):\n",
        "  result = []\n",
        "  for x in head_text['title_text']:\n",
        "    for word in x:\n",
        "      if word not in stop or len(word) > 3:\n",
        "        result.append(word)\n",
        "  return result\n",
        "\n",
        "def callStopWord(head_text):\n",
        "  titles = []\n",
        "  for x in head_text['title_text']:\n",
        "    titles.append(word)\n",
        "  return titles\n",
        "  ```"
      ]
    },
    {
      "cell_type": "code",
      "metadata": {
        "colab": {
          "base_uri": "https://localhost:8080/",
          "height": 287
        },
        "id": "7wPh5_zWBOkE",
        "outputId": "c3d11218-5cbd-4c34-b7ff-f934732ab655"
      },
      "source": [
        "# 길이가 3 이하인 것도 불용어 처리하기\n",
        "# 람다 버전\n",
        "\n",
        "head_text['title'] = head_text['title_text'].apply(lambda x: [ word for word in x if (len(word) > 3) if (word not in stop)])\n",
        "head_text.head(5)"
      ],
      "execution_count": 54,
      "outputs": [
        {
          "output_type": "execute_result",
          "data": {
            "text/html": [
              "<div>\n",
              "<style scoped>\n",
              "    .dataframe tbody tr th:only-of-type {\n",
              "        vertical-align: middle;\n",
              "    }\n",
              "\n",
              "    .dataframe tbody tr th {\n",
              "        vertical-align: top;\n",
              "    }\n",
              "\n",
              "    .dataframe thead th {\n",
              "        text-align: right;\n",
              "    }\n",
              "</style>\n",
              "<table border=\"1\" class=\"dataframe\">\n",
              "  <thead>\n",
              "    <tr style=\"text-align: right;\">\n",
              "      <th></th>\n",
              "      <th>headline_text</th>\n",
              "      <th>title_text</th>\n",
              "      <th>title</th>\n",
              "    </tr>\n",
              "  </thead>\n",
              "  <tbody>\n",
              "    <tr>\n",
              "      <th>0</th>\n",
              "      <td>aba decides against community broadcasting lic...</td>\n",
              "      <td>[aba, decides, against, community, broadcastin...</td>\n",
              "      <td>[decides, community, broadcasting, licence]</td>\n",
              "    </tr>\n",
              "    <tr>\n",
              "      <th>1</th>\n",
              "      <td>act fire witnesses must be aware of defamation</td>\n",
              "      <td>[act, fire, witnesses, must, be, aware, of, de...</td>\n",
              "      <td>[fire, witnesses, must, aware, defamation]</td>\n",
              "    </tr>\n",
              "    <tr>\n",
              "      <th>2</th>\n",
              "      <td>a g calls for infrastructure protection summit</td>\n",
              "      <td>[a, g, calls, for, infrastructure, protection,...</td>\n",
              "      <td>[calls, infrastructure, protection, summit]</td>\n",
              "    </tr>\n",
              "    <tr>\n",
              "      <th>3</th>\n",
              "      <td>air nz staff in aust strike for pay rise</td>\n",
              "      <td>[air, nz, staff, in, aust, strike, for, pay, r...</td>\n",
              "      <td>[staff, aust, strike, rise]</td>\n",
              "    </tr>\n",
              "    <tr>\n",
              "      <th>4</th>\n",
              "      <td>air nz strike to affect australian travellers</td>\n",
              "      <td>[air, nz, strike, to, affect, australian, trav...</td>\n",
              "      <td>[strike, affect, australian, travellers]</td>\n",
              "    </tr>\n",
              "  </tbody>\n",
              "</table>\n",
              "</div>"
            ],
            "text/plain": [
              "                                       headline_text  ...                                        title\n",
              "0  aba decides against community broadcasting lic...  ...  [decides, community, broadcasting, licence]\n",
              "1     act fire witnesses must be aware of defamation  ...   [fire, witnesses, must, aware, defamation]\n",
              "2     a g calls for infrastructure protection summit  ...  [calls, infrastructure, protection, summit]\n",
              "3           air nz staff in aust strike for pay rise  ...                  [staff, aust, strike, rise]\n",
              "4      air nz strike to affect australian travellers  ...     [strike, affect, australian, travellers]\n",
              "\n",
              "[5 rows x 3 columns]"
            ]
          },
          "metadata": {},
          "execution_count": 54
        }
      ]
    },
    {
      "cell_type": "code",
      "metadata": {
        "colab": {
          "base_uri": "https://localhost:8080/"
        },
        "id": "z-44bbT7HGek",
        "outputId": "b1fb24e7-42d5-4d5e-a1ae-dd9af5f48d16"
      },
      "source": [
        "head_text['title'][3]"
      ],
      "execution_count": 55,
      "outputs": [
        {
          "output_type": "execute_result",
          "data": {
            "text/plain": [
              "['staff', 'aust', 'strike', 'rise']"
            ]
          },
          "metadata": {},
          "execution_count": 55
        }
      ]
    },
    {
      "cell_type": "code",
      "metadata": {
        "colab": {
          "base_uri": "https://localhost:8080/"
        },
        "id": "vxN8B9uiGdsO",
        "outputId": "5b8cfc5e-fa9e-4187-cdc6-fb071e244504"
      },
      "source": [
        "tokens = []\n",
        "for i in range(len(head_text)):\n",
        "  tokens.append( ' '.join(head_text['title'][i]) )  # 리스트 요소를 문자화 시키기\n",
        "\n",
        "tokens[3:5]"
      ],
      "execution_count": 56,
      "outputs": [
        {
          "output_type": "execute_result",
          "data": {
            "text/plain": [
              "['staff aust strike rise', 'strike affect australian travellers']"
            ]
          },
          "metadata": {},
          "execution_count": 56
        }
      ]
    },
    {
      "cell_type": "code",
      "metadata": {
        "id": "MCbPjX_xEpuX"
      },
      "source": [
        "from sklearn.feature_extraction.text import TfidfVectorizer"
      ],
      "execution_count": 57,
      "outputs": []
    },
    {
      "cell_type": "code",
      "metadata": {
        "colab": {
          "base_uri": "https://localhost:8080/"
        },
        "id": "SXVPEMZRFqwx",
        "outputId": "775331ef-d81b-404f-9bdb-c6bec6f7c68a"
      },
      "source": [
        "tfidf = TfidfVectorizer(max_features=1000)\n",
        "X = tfidf.fit_transform(tokens)\n",
        "X.shape"
      ],
      "execution_count": 58,
      "outputs": [
        {
          "output_type": "execute_result",
          "data": {
            "text/plain": [
              "(1000, 1000)"
            ]
          },
          "metadata": {},
          "execution_count": 58
        }
      ]
    },
    {
      "cell_type": "code",
      "metadata": {
        "id": "IPyftX3cGAHf"
      },
      "source": [
        "# X[4].toarray()"
      ],
      "execution_count": 59,
      "outputs": []
    },
    {
      "cell_type": "code",
      "metadata": {
        "id": "Ht0UYY5PIbXZ"
      },
      "source": [
        "from sklearn.decomposition import LatentDirichletAllocation  # 단어 중요도 나타내기"
      ],
      "execution_count": 60,
      "outputs": []
    },
    {
      "cell_type": "code",
      "metadata": {
        "id": "YqRYOGMAIsf-"
      },
      "source": [
        "lda_model = LatentDirichletAllocation(max_iter=10, n_components=4)  # max_itr == epochs"
      ],
      "execution_count": 74,
      "outputs": []
    },
    {
      "cell_type": "code",
      "metadata": {
        "id": "pY7yblSYM34h"
      },
      "source": [
        "lda_top = lda_model.fit_transform(X)"
      ],
      "execution_count": 75,
      "outputs": []
    },
    {
      "cell_type": "code",
      "metadata": {
        "colab": {
          "base_uri": "https://localhost:8080/"
        },
        "id": "qMcImu9_NBEE",
        "outputId": "df897799-fce2-4119-d69b-dbba8778857b"
      },
      "source": [
        "lda_model.components_.shape,  lda_model.components_  # numpy로 중요도가 담김"
      ],
      "execution_count": 76,
      "outputs": [
        {
          "output_type": "execute_result",
          "data": {
            "text/plain": [
              "((4, 1000),\n",
              " array([[0.25028574, 0.25015379, 0.25045747, ..., 1.33722865, 0.25018368,\n",
              "         1.94468439],\n",
              "        [0.25026601, 0.25272886, 0.76997497, ..., 0.25880556, 0.25016465,\n",
              "         0.25047884],\n",
              "        [1.71641858, 0.25015515, 0.88686109, ..., 0.74087848, 0.25017042,\n",
              "         0.74953161],\n",
              "        [0.25278643, 1.60914125, 0.25613691, ..., 0.25043801, 1.43503111,\n",
              "         2.10016754]]))"
            ]
          },
          "metadata": {},
          "execution_count": 76
        }
      ]
    },
    {
      "cell_type": "code",
      "metadata": {
        "id": "NNBeeHYiNL7f"
      },
      "source": [
        "terms = tfidf.get_feature_names()  # 단어 모음"
      ],
      "execution_count": 77,
      "outputs": []
    },
    {
      "cell_type": "code",
      "metadata": {
        "colab": {
          "base_uri": "https://localhost:8080/"
        },
        "id": "KY5yljLmNiT6",
        "outputId": "9f423142-34dc-401e-addb-16ae418f7b1f"
      },
      "source": [
        "n = 5   # 5개씩 뽑음\n",
        "for idx, topic in enumerate(lda_model.components_):\n",
        "  print( [(terms[i], topic[i]) for i in topic.argsort()[:-n-1:-1]] )\n",
        "\n",
        "# topic의 주요 단어 -> 부정적인 내용의 기사가 많군"
      ],
      "execution_count": 78,
      "outputs": [
        {
          "output_type": "stream",
          "text": [
            "[('murder', 7.176543782573748), ('still', 6.329541466692143), ('jailed', 4.471502771166158), ('takes', 4.345426193157762), ('funds', 4.336206406231054)]\n",
            "[('fire', 7.835037243693708), ('says', 7.622906316855529), ('govt', 7.348400394351069), ('iraq', 6.064753554925244), ('police', 5.991916552128032)]\n",
            "[('face', 6.783130858520391), ('death', 6.625183851146364), ('water', 5.7811805730443115), ('back', 5.706433590067808), ('warne', 5.612224303008051)]\n",
            "[('council', 9.61187249991279), ('rain', 9.568336428930827), ('drought', 7.498264120048217), ('world', 5.8495079556773835), ('iraqi', 4.863659101182978)]\n"
          ],
          "name": "stdout"
        }
      ]
    },
    {
      "cell_type": "code",
      "metadata": {
        "id": "tx31dtCCOmKC"
      },
      "source": [
        ""
      ],
      "execution_count": null,
      "outputs": []
    }
  ]
}