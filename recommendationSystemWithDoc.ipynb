{
  "nbformat": 4,
  "nbformat_minor": 0,
  "metadata": {
    "colab": {
      "name": "recommendationSystemWithDoc.ipynb",
      "provenance": [],
      "collapsed_sections": [],
      "authorship_tag": "ABX9TyN0JnJmPNX8/5uxPc1ZZKI3"
    },
    "kernelspec": {
      "name": "python3",
      "display_name": "Python 3"
    },
    "language_info": {
      "name": "python"
    }
  },
  "cells": [
    {
      "cell_type": "code",
      "metadata": {
        "id": "gb6PiClNpVkG"
      },
      "source": [
        "import pandas as pd"
      ],
      "execution_count": 1,
      "outputs": []
    },
    {
      "cell_type": "code",
      "metadata": {
        "id": "BpRAHK_Sp-nB"
      },
      "source": [
        "df_data = pd.read_csv('./data.csv')\n",
        "df_data.head(4)"
      ],
      "execution_count": null,
      "outputs": []
    },
    {
      "cell_type": "code",
      "metadata": {
        "colab": {
          "base_uri": "https://localhost:8080/"
        },
        "id": "fAclMZDSqQtR",
        "outputId": "7dc0e308-dce2-4bf7-e470-520db72c3903"
      },
      "source": [
        "df_data.info()\n",
        "# 데이터 길이가 같아 불용어처리 이외의  전처리는 하지 않아도 됨"
      ],
      "execution_count": 4,
      "outputs": [
        {
          "output_type": "stream",
          "text": [
            "<class 'pandas.core.frame.DataFrame'>\n",
            "RangeIndex: 2382 entries, 0 to 2381\n",
            "Data columns (total 8 columns):\n",
            " #   Column        Non-Null Count  Dtype  \n",
            "---  ------        --------------  -----  \n",
            " 0   Unnamed: 0    2382 non-null   int64  \n",
            " 1   Desc          2382 non-null   object \n",
            " 2   Unnamed: 0.1  1185 non-null   float64\n",
            " 3   author        2382 non-null   object \n",
            " 4   genre         2382 non-null   object \n",
            " 5   image_link    2382 non-null   object \n",
            " 6   rating        2382 non-null   float64\n",
            " 7   title         2382 non-null   object \n",
            "dtypes: float64(2), int64(1), object(5)\n",
            "memory usage: 149.0+ KB\n"
          ],
          "name": "stdout"
        }
      ]
    },
    {
      "cell_type": "code",
      "metadata": {
        "colab": {
          "base_uri": "https://localhost:8080/"
        },
        "id": "uyf2OMZpsL_D",
        "outputId": "9f175d4a-09fa-4c5b-b067-8e444b4dfbd4"
      },
      "source": [
        "df_data['Desc']"
      ],
      "execution_count": 5,
      "outputs": [
        {
          "output_type": "execute_result",
          "data": {
            "text/plain": [
              "0       We know that power is shifting: From West to E...\n",
              "1       Following the success of The Accidental Billio...\n",
              "2       How to tap the power of social software and ne...\n",
              "3       William J. Bernstein is an American financial ...\n",
              "4       Amazing book. And I joined Steve Jobs and many...\n",
              "                              ...                        \n",
              "2377    Ralph Roberts, a sus setenta años y tras la mu...\n",
              "2378    Murder at the Vicarage marks the debut of Agat...\n",
              "2379    In 1951 John Wyndham published his novel The D...\n",
              "2380    This now classic book revealed Flannery O'Conn...\n",
              "2381    Imbued on every page with Frank McCourt's asto...\n",
              "Name: Desc, Length: 2382, dtype: object"
            ]
          },
          "metadata": {},
          "execution_count": 5
        }
      ]
    },
    {
      "cell_type": "code",
      "metadata": {
        "id": "TWbmLK9ktOYL"
      },
      "source": [
        "from nltk.tokenize import RegexpTokenizer"
      ],
      "execution_count": 6,
      "outputs": []
    },
    {
      "cell_type": "markdown",
      "metadata": {
        "id": "feacJ34Puqu6"
      },
      "source": [
        "- RegexpTokenizer :  https://regexr.com/\n",
        "\n",
        "- Regular Expression Tokenizer : 내가 지정한 글자나 문자대로 자를 수 있음. 단어의 인접행렬을 알아내기 위해 하는 작업.\n",
        "\n",
        "- apply : map 같은 기능\n",
        "\n"
      ]
    },
    {
      "cell_type": "code",
      "metadata": {
        "id": "5CONF_H9sU19"
      },
      "source": [
        "def remove_punctuation(text):\n",
        "  tokenizer = RegexpTokenizer('[a-zA-Z]+') # '따옴표'안에 있는 구문만 가져오기\n",
        "  text_list = tokenizer.tokenize(text)\n",
        "  print(type(text_list), text_list)\n",
        "  result = ' '.join(text_list)\n",
        "  print( type(result), result)\n",
        "\n",
        "  return result"
      ],
      "execution_count": 14,
      "outputs": []
    },
    {
      "cell_type": "code",
      "metadata": {
        "colab": {
          "base_uri": "https://localhost:8080/",
          "height": 70
        },
        "id": "b4EAEvAKwz_V",
        "outputId": "33c83450-aed5-4121-814c-05175d8c3552"
      },
      "source": [
        "text01 = 'We know that power is shifting: From West to E'\n",
        "remove_punctuation(text01)"
      ],
      "execution_count": 15,
      "outputs": [
        {
          "output_type": "stream",
          "text": [
            "<class 'list'> ['We', 'know', 'that', 'power', 'is', 'shifting', 'From', 'West', 'to', 'E']\n",
            "<class 'str'> We know that power is shifting From West to E\n"
          ],
          "name": "stdout"
        },
        {
          "output_type": "execute_result",
          "data": {
            "application/vnd.google.colaboratory.intrinsic+json": {
              "type": "string"
            },
            "text/plain": [
              "'We know that power is shifting From West to E'"
            ]
          },
          "metadata": {},
          "execution_count": 15
        }
      ]
    },
    {
      "cell_type": "code",
      "metadata": {
        "id": "Txnkm_d5tHfr"
      },
      "source": [
        "df_data['cleaned'] = df_data['Desc'].apply(remove_punctuation)"
      ],
      "execution_count": null,
      "outputs": []
    },
    {
      "cell_type": "code",
      "metadata": {
        "colab": {
          "base_uri": "https://localhost:8080/"
        },
        "id": "L03eqN0XxyDR",
        "outputId": "cf23abf1-7c97-4d3c-dc6d-9fb2cfdef1eb"
      },
      "source": [
        "df_data.columns\n",
        "\n",
        "# cleaned 가 추가되어있음"
      ],
      "execution_count": 17,
      "outputs": [
        {
          "output_type": "execute_result",
          "data": {
            "text/plain": [
              "Index(['Unnamed: 0', 'Desc', 'Unnamed: 0.1', 'author', 'genre', 'image_link',\n",
              "       'rating', 'title', 'cleaned'],\n",
              "      dtype='object')"
            ]
          },
          "metadata": {},
          "execution_count": 17
        }
      ]
    },
    {
      "cell_type": "code",
      "metadata": {
        "colab": {
          "base_uri": "https://localhost:8080/"
        },
        "id": "IQhQdkH6x3cc",
        "outputId": "fe4e708e-a846-44d7-d871-adc4c58276cd"
      },
      "source": [
        "df_data['cleaned'].head(5)"
      ],
      "execution_count": 18,
      "outputs": [
        {
          "output_type": "execute_result",
          "data": {
            "text/plain": [
              "0    We know that power is shifting From West to Ea...\n",
              "1    Following the success of The Accidental Billio...\n",
              "2    How to tap the power of social software and ne...\n",
              "3    William J Bernstein is an American financial t...\n",
              "4    Amazing book And I joined Steve Jobs and many ...\n",
              "Name: cleaned, dtype: object"
            ]
          },
          "metadata": {},
          "execution_count": 18
        }
      ]
    },
    {
      "cell_type": "code",
      "metadata": {
        "colab": {
          "base_uri": "https://localhost:8080/"
        },
        "id": "wRoe6UbWyDbB",
        "outputId": "75f3b8af-814c-4fd2-9a8c-a9a2f07c10d3"
      },
      "source": [
        "df_data.info()"
      ],
      "execution_count": 19,
      "outputs": [
        {
          "output_type": "stream",
          "text": [
            "<class 'pandas.core.frame.DataFrame'>\n",
            "RangeIndex: 2382 entries, 0 to 2381\n",
            "Data columns (total 9 columns):\n",
            " #   Column        Non-Null Count  Dtype  \n",
            "---  ------        --------------  -----  \n",
            " 0   Unnamed: 0    2382 non-null   int64  \n",
            " 1   Desc          2382 non-null   object \n",
            " 2   Unnamed: 0.1  1185 non-null   float64\n",
            " 3   author        2382 non-null   object \n",
            " 4   genre         2382 non-null   object \n",
            " 5   image_link    2382 non-null   object \n",
            " 6   rating        2382 non-null   float64\n",
            " 7   title         2382 non-null   object \n",
            " 8   cleaned       2382 non-null   object \n",
            "dtypes: float64(2), int64(1), object(6)\n",
            "memory usage: 167.6+ KB\n"
          ],
          "name": "stdout"
        }
      ]
    },
    {
      "cell_type": "markdown",
      "metadata": {
        "id": "i1FwSZQx3o-w"
      },
      "source": [
        "## Pre-Trained\n",
        "\n",
        "문장을 입력할 때 마다 word2vec을 돌릴 수 없음 -> **Pre-trained** : 누군가가 엄청 많은 데이터를 Word2Vec으로 만들어 놓은 것을 가져와 쓰기"
      ]
    },
    {
      "cell_type": "code",
      "metadata": {
        "colab": {
          "base_uri": "https://localhost:8080/"
        },
        "id": "R7wqUJcl1p3n",
        "outputId": "b29974e8-5051-4649-afb4-94dcef58f566"
      },
      "source": [
        "#  구글뉴스 위키피디아 - > Word2Vec 으로 만들어둔 자료\n",
        "\n",
        "!curl -O https://s3.amazonaws.com/dl4j-distribution/GoogleNews-vectors-negative300.bin.gz"
      ],
      "execution_count": 20,
      "outputs": [
        {
          "output_type": "stream",
          "text": [
            "  % Total    % Received % Xferd  Average Speed   Time    Time     Time  Current\n",
            "                                 Dload  Upload   Total   Spent    Left  Speed\n",
            "100 1570M  100 1570M    0     0  93.2M      0  0:00:16  0:00:16 --:--:-- 90.2M\n"
          ],
          "name": "stdout"
        }
      ]
    },
    {
      "cell_type": "code",
      "metadata": {
        "id": "c1CRNwky38pd"
      },
      "source": [
        "from gensim.models import Word2Vec"
      ],
      "execution_count": 21,
      "outputs": []
    },
    {
      "cell_type": "code",
      "metadata": {
        "colab": {
          "base_uri": "https://localhost:8080/"
        },
        "id": "7SWBTida83yN",
        "outputId": "25ba2088-f5ef-4aa9-8229-a8a539d006f5"
      },
      "source": [
        "corpus = []\n",
        "for words in df_data['cleaned']:\n",
        "  corpus.append(words.split())\n",
        "print(type(corpus),  corpus[4:8])"
      ],
      "execution_count": 31,
      "outputs": [
        {
          "output_type": "stream",
          "text": [
            "<class 'list'> [['Amazing', 'book', 'And', 'I', 'joined', 'Steve', 'Jobs', 'and', 'many', 'more', 'from', 'the', 'Akio', 'Morita', 'fan', 'club', 'Did', 'you', 'know', 'that', 'he', 'was', 'such', 'a', 'sensation', 'that', 'Steve', 'Jobs', 'wanted', 'to', 'build', 'Apple', 'to', 'be', 'like', 'Sony', 'Here', 'are', 'the', 'similarities', 'Both', 'Apple', 'and', 'Sony', 'had', 'a', 'reputation', 'of', 'creating', 'perfectly', 'crafted', 'consumer', 'products', 'which', 'conquer', 'the', 'marketplace', 'Apple', 'still', 'does', 'in', 'fact', 'Both', 'companies', 'were', 'leaders', 'in', 'personal', 'technology', 'This', 'is', 'where', 'Apple', 'drew', 'inspiration', 'from', 'Sony', 's', 'Walkman', 'an', 'inspiration', 'which', 'culminated', 'in', 'the'], ['In', 'the', 'tradition', 'of', 'Phil', 'Knight', 's', 'Shoe', 'Dog', 'comes', 'the', 'incredible', 'untold', 'story', 'of', 'how', 'Netflix', 'went', 'from', 'concept', 'to', 'company', 'all', 'revealed', 'by', 'co', 'founder', 'and', 'first', 'CEO', 'Marc', 'Randolph', 'Once', 'upon', 'a', 'time', 'brick', 'and', 'mortar', 'video', 'stores', 'were', 'king', 'Late', 'fees', 'were', 'ubiquitous', 'video', 'streaming', 'unheard', 'was', 'of', 'and', 'widespread', 'DVD', 'adoption', 'seemed', 'about', 'as', 'imminent', 'as', 'flying', 'cars', 'Indeed', 'these', 'were', 'the', 'widely', 'accepted', 'laws', 'of', 'the', 'land', 'in', 'when', 'Marc', 'Randolph', 'had', 'an', 'idea', 'It', 'was', 'a', 'simple', 'thought', 'leveraging', 'the', 'internet', 'to', 'rent', 'movies', 'and', 'was', 'just', 'one', 'of', 'many', 'more', 'and', 'far', 'worse', 'proposals', 'like', 'personalized', 'baseball', 'bats', 'and', 'a', 'shampoo', 'delivery', 'service', 'that', 'Randolph', 'would', 'pitch', 'to', 'his', 'business', 'partner', 'Reed', 'Hastings', 'on', 'their', 'commute', 'to', 'work', 'each', 'morning', 'But', 'Hastings', 'was', 'intrigued', 'and', 'the', 'pair', 'with', 'Hastings', 'as', 'the', 'primary', 'investor', 'and', 'Randolph', 'as', 'the', 'CEO', 'founded', 'a', 'company', 'Now', 'with', 'over', 'million', 'subscribers', 'Netflix', 's', 'triumph', 'feels', 'inevitable', 'but', 'the', 'twenty', 'first', 'century', 's', 'most', 'disruptive', 'start', 'up', 'began', 'with', 'few', 'believers', 'and', 'calamity', 'at', 'every', 'turn', 'From', 'having', 'to', 'pitch', 'his', 'own', 'mother', 'on', 'being', 'an', 'early', 'investor', 'to', 'the', 'motel', 'conference', 'room', 'that', 'served', 'as', 'a', 'first', 'office', 'to', 'server', 'crashes', 'on', 'launch', 'day', 'to', 'the', 'now', 'infamous', 'meeting', 'when', 'Netflix', 'brass', 'pitched', 'Blockbuster', 'to', 'acquire', 'them', 'Marc', 'Randolph', 's', 'transformational', 'journey', 'exemplifies', 'how', 'anyone', 'with', 'grit', 'gut', 'instincts', 'and', 'determination', 'can', 'change', 'the', 'world', 'even', 'with', 'an', 'idea', 'that', 'many', 'think', 'will', 'never', 'work', 'What', 'emerges', 'though', 'isn', 't', 'just', 'the', 'inside', 'story', 'of', 'one', 'of', 'the', 'world', 's', 'most', 'iconic', 'companies', 'Full', 'of', 'counter', 'intuitive', 'concepts', 'and', 'written', 'in', 'binge', 'worthy', 'prose', 'it', 'answers', 'some', 'of', 'our', 'most', 'fundamental', 'questions', 'about', 'taking', 'that', 'leap', 'of', 'faith', 'in', 'business', 'or', 'in', 'life', 'How', 'do', 'you', 'begin', 'How', 'do', 'you', 'weather', 'disappointment', 'and', 'failure', 'How', 'do', 'you', 'deal', 'with', 'success', 'What', 'even', 'is', 'success', 'From', 'idea', 'generation', 'to', 'team', 'building', 'to', 'knowing', 'when', 'it', 's', 'time', 'to', 'let', 'go', 'That', 'Will', 'Never', 'Work', 'is', 'not', 'only', 'the', 'ultimate', 'follow', 'your', 'dreams', 'parable', 'but', 'also', 'one', 'of', 'the', 'most', 'dramatic', 'and', 'insightful', 'entrepreneurial', 'stories', 'of', 'our', 'time'], ['Gregory', 'Zuckerman', 'the', 'bestselling', 'author', 'of', 'The', 'Greatest', 'Trade', 'Ever', 'and', 'The', 'Frackers', 'answers', 'the', 'question', 'investors', 'have', 'been', 'asking', 'for', 'decades', 'How', 'did', 'Jim', 'Simons', 'do', 'it', 'Shortlisted', 'for', 'the', 'Financial', 'Times', 'McKinsey', 'Business', 'Book', 'of', 'the', 'Year', 'AwardJim', 'Simons', 'is', 'the', 'greatest', 'money', 'maker', 'in', 'modern', 'financial', 'history', 'No', 'other', 'investor', 'Warren', 'Buffett', 'Peter', 'Lynch', 'Ray', 'Dalio', 'Steve', 'Cohen', 'or', 'George', 'Soros', 'can', 'touch', 'his', 'record', 'Since', 'Renaissance', 's', 'signature', 'Medallion', 'fund', 'has', 'generated', 'average', 'annual', 'returns', 'of', 'percent', 'The', 'firm', 'has', 'earned', 'profits', 'of', 'more', 'than', 'billion', 'Simons', 'is', 'worth', 'twenty', 'three', 'billion', 'dollars', 'Drawing', 'on', 'unprecedented', 'access', 'to', 'Simons', 'and', 'dozens', 'of', 'current', 'and', 'former', 'employees', 'Zuckerman', 'a', 'veteran', 'Wall', 'Street', 'Journal', 'investigative', 'reporter', 'tells', 'the', 'gripping', 'story', 'of', 'how', 'a', 'world', 'class', 'mathematician', 'and', 'former', 'code', 'breaker', 'mastered', 'the', 'market', 'Simons', 'pioneered', 'a', 'data', 'driven', 'algorithmic', 'approach', 'that', 's', 'sweeping', 'the', 'world', 'As', 'Renaissance', 'became', 'a', 'market', 'force', 'its', 'executives', 'began', 'influencing', 'the', 'world', 'beyond', 'finance', 'Simons', 'became', 'a', 'major', 'figure', 'in', 'scientific', 'research', 'education', 'and', 'liberal', 'politics', 'Senior', 'executive', 'Robert', 'Mercer', 'is', 'more', 'responsible', 'than', 'anyone', 'else', 'for', 'the', 'Trump', 'presidency', 'placing', 'Steve', 'Bannon', 'in', 'the', 'campaign', 'and', 'funding', 'Trump', 's', 'victorious', 'effort', 'Mercer', 'also', 'impacted', 'the', 'campaign', 'behind', 'Brexit', 'The', 'Man', 'Who', 'Solved', 'the', 'Market', 'is', 'a', 'portrait', 'of', 'a', 'modern', 'day', 'Midas', 'who', 'remade', 'markets', 'in', 'his', 'own', 'image', 'but', 'failed', 'to', 'anticipate', 'how', 'his', 'success', 'would', 'impact', 'his', 'firm', 'and', 'his', 'country', 'It', 's', 'also', 'a', 'story', 'of', 'what', 'Simons', 's', 'revolution', 'means', 'for', 'the', 'rest', 'of', 'us'], ['From', 'bestselling', 'writer', 'David', 'Graeber', 'a', 'powerful', 'argument', 'against', 'the', 'rise', 'of', 'meaningless', 'unfulfilling', 'jobs', 'and', 'their', 'consequences', 'Does', 'your', 'job', 'make', 'a', 'meaningful', 'contribution', 'to', 'the', 'world', 'In', 'the', 'spring', 'of', 'David', 'Graeber', 'asked', 'this', 'question', 'in', 'a', 'playful', 'provocative', 'essay', 'titled', 'On', 'the', 'Phenomenon', 'of', 'Bullshit', 'Jobs', 'It', 'went', 'viral', 'After', 'a', 'million', 'online', 'views', 'in', 'seventeen', 'different', 'languages', 'people', 'all', 'over', 'the', 'world', 'are', 'still', 'debating', 'the', 'answer', 'There', 'are', 'millions', 'of', 'people', 'HR', 'consultants', 'communication', 'coordinators', 'telemarketing', 'researchers', 'corporate', 'lawyers', 'whose', 'jobs', 'are', 'useless', 'and', 'tragically', 'they', 'know', 'it', 'These', 'people', 'are', 'caught', 'in', 'bullshit', 'jobs', 'Graeber', 'explores', 'one', 'of', 'society', 's', 'most', 'vexing', 'and', 'deeply', 'felt', 'concerns', 'indicting', 'among', 'other', 'villains', 'a', 'particular', 'strain', 'of', 'finance', 'capitalism', 'that', 'betrays', 'ideals', 'shared', 'by', 'thinkers', 'ranging', 'from', 'Keynes', 'to', 'Lincoln', 'Bullshit', 'Jobs', 'gives', 'individuals', 'corporations', 'and', 'societies', 'permission', 'to', 'undergo', 'a', 'shift', 'in', 'values', 'placing', 'creative', 'and', 'caring', 'work', 'at', 'the', 'center', 'of', 'our', 'culture', 'This', 'book', 'is', 'for', 'everyone', 'who', 'wants', 'to', 'turn', 'their', 'vocation', 'back', 'into', 'an', 'avocation']]\n"
          ],
          "name": "stdout"
        }
      ]
    },
    {
      "cell_type": "code",
      "metadata": {
        "id": "6P3Kao7z4u8E"
      },
      "source": [
        "word2vec_model = Word2Vec(min_count=2, workers=-1, size=300)\n",
        "# 300차원 word2vec\n",
        "word2vec_model.build_vocab(corpus)  "
      ],
      "execution_count": 33,
      "outputs": []
    },
    {
      "cell_type": "code",
      "metadata": {
        "id": "ZlB67afb5Gq8"
      },
      "source": [
        "word2vec_model.intersect_word2vec_format('GoogleNews-vectors-negative300.bin.gz', lockf=1.0, binary=True)"
      ],
      "execution_count": 34,
      "outputs": []
    },
    {
      "cell_type": "code",
      "metadata": {
        "colab": {
          "base_uri": "https://localhost:8080/"
        },
        "id": "xIk21N7T6gAm",
        "outputId": "e71828e6-75e3-4236-a891-a1bc2b401c56"
      },
      "source": [
        "word2vec_model.train(df_data['cleaned'], total_examples=word2vec_model.corpus_count, epochs=5 )\n",
        "\n",
        "\n"
      ],
      "execution_count": 35,
      "outputs": [
        {
          "output_type": "execute_result",
          "data": {
            "text/plain": [
              "(0, 0)"
            ]
          },
          "metadata": {},
          "execution_count": 35
        }
      ]
    },
    {
      "cell_type": "code",
      "metadata": {
        "id": "GwdHDqmy7h_E"
      },
      "source": [
        "word2vec_model.wv.vocab\n",
        "\n",
        "# 각 단어마다 gensim으로 한 Keyedvectors 가 들어감"
      ],
      "execution_count": null,
      "outputs": []
    },
    {
      "cell_type": "code",
      "metadata": {
        "colab": {
          "base_uri": "https://localhost:8080/"
        },
        "id": "Dtvbo7UP72Eb",
        "outputId": "1b1284ce-70f6-487d-ccc9-3c8fe9d55a84"
      },
      "source": [
        "# 단어를 word2vec에 저장되있는 숫자로 바꾸기\n",
        "# 수치화된 것을 합산(사이즈 같을 경우)후 평균 구함\n",
        "\n",
        "doc_embedding_list = list()\n",
        "for line in df_data['cleaned']:\n",
        "  doc2vec = None\n",
        "\n",
        "  for word in line.split():\n",
        "    if word in word2vec_model.wv.vocab:\n",
        "      if doc2vec is None:\n",
        "        doc2vec = word2vec_model[word] \n",
        "      else :\n",
        "        doc2vec = doc2vec + word2vec_model[word]  # 합산\n",
        "\n",
        "  if doc2vec is not None:\n",
        "    doc2vec = doc2vec / len(doc2vec)  # 평균\n",
        "    doc_embedding_list.append(doc2vec)\n",
        "\n",
        "print(doc_embedding_list)"
      ],
      "execution_count": 41,
      "outputs": [
        {
          "output_type": "stream",
          "text": [
            "/usr/local/lib/python3.7/dist-packages/ipykernel_launcher.py:10: DeprecationWarning: Call to deprecated `__getitem__` (Method will be removed in 4.0.0, use self.wv.__getitem__() instead).\n",
            "  # Remove the CWD from sys.path while we load stuff.\n",
            "/usr/local/lib/python3.7/dist-packages/ipykernel_launcher.py:12: DeprecationWarning: Call to deprecated `__getitem__` (Method will be removed in 4.0.0, use self.wv.__getitem__() instead).\n",
            "  if sys.path[0] == '':\n",
            "IOPub data rate exceeded.\n",
            "The notebook server will temporarily stop sending output\n",
            "to the client in order to avoid crashing it.\n",
            "To change this limit, set the config variable\n",
            "`--NotebookApp.iopub_data_rate_limit`.\n",
            "\n",
            "Current values:\n",
            "NotebookApp.iopub_data_rate_limit=1000000.0 (bytes/sec)\n",
            "NotebookApp.rate_limit_window=3.0 (secs)\n",
            "\n"
          ],
          "name": "stderr"
        }
      ]
    },
    {
      "cell_type": "code",
      "metadata": {
        "id": "sv3FnlU_Eo7B"
      },
      "source": [
        "type(doc_embedding_list), doc_embedding_list[3]"
      ],
      "execution_count": null,
      "outputs": []
    },
    {
      "cell_type": "markdown",
      "metadata": {
        "id": "RiH--K3jFDwn"
      },
      "source": [
        "## Cosine Metrix  인접행렬"
      ]
    },
    {
      "cell_type": "code",
      "metadata": {
        "id": "SUsMK6L2EvvA"
      },
      "source": [
        "from sklearn.metrics.pairwise import cosine_similarity"
      ],
      "execution_count": 43,
      "outputs": []
    },
    {
      "cell_type": "code",
      "metadata": {
        "colab": {
          "base_uri": "https://localhost:8080/"
        },
        "id": "qFMcpOaVH48V",
        "outputId": "f22dacca-b70a-4f24-ab66-27bab91a7982"
      },
      "source": [
        " cosine_sim = cosine_similarity(doc_embedding_list, doc_embedding_list) # 인접행렬 만들기\n",
        " type(cosine_sim), cosine_sim.shape"
      ],
      "execution_count": 45,
      "outputs": [
        {
          "output_type": "execute_result",
          "data": {
            "text/plain": [
              "(numpy.ndarray, (2381, 2381))"
            ]
          },
          "metadata": {},
          "execution_count": 45
        }
      ]
    },
    {
      "cell_type": "code",
      "metadata": {
        "id": "7P2lJmcgIJjO"
      },
      "source": [
        "# cosine_sim[3]"
      ],
      "execution_count": 48,
      "outputs": []
    },
    {
      "cell_type": "markdown",
      "metadata": {
        "id": "iPGUe2tIIj3X"
      },
      "source": [
        "## Predict"
      ]
    },
    {
      "cell_type": "code",
      "metadata": {
        "id": "lZEFpEpuIVsO"
      },
      "source": [
        "# title = 'The Da Vinci Code'\n",
        "title = 'The Four Pillars of Investing'  # 3"
      ],
      "execution_count": 50,
      "outputs": []
    },
    {
      "cell_type": "code",
      "metadata": {
        "colab": {
          "base_uri": "https://localhost:8080/"
        },
        "id": "dzEeAAVaIvkp",
        "outputId": "e4adc667-9177-4a37-8f7c-c278abdedb6d"
      },
      "source": [
        "idx = 3\n",
        "sim_scores = list( enumerate(cosine_sim[3]) )\n",
        "print(sim_scores)\n",
        "\n",
        "# df_data의 값들과 title간에 관계성이 얼마나 있는지 나타냄"
      ],
      "execution_count": 53,
      "outputs": [
        {
          "output_type": "stream",
          "text": [
            "[(0, 0.76517975), (1, 0.7288941), (2, 0.7381953), (3, 1.0000001), (4, 0.7084857), (5, 0.7804967), (6, 0.8593236), (7, 0.7965467), (8, 0.7394036), (9, 0.72536606), (10, 0.76275), (11, 0.7512661), (12, 0.72602236), (13, 0.76434946), (14, 0.6824801), (15, 0.7593611), (16, 0.7778524), (17, 0.7627409), (18, 0.7478719), (19, 0.7226551), (20, 0.73908305), (21, 0.73647594), (22, 0.71027994), (23, 0.7436192), (24, 0.7930749), (25, 0.6462525), (26, 0.74705964), (27, 0.7641522), (28, 0.7266728), (29, 0.7583046), (30, 0.7627722), (31, 0.7456773), (32, 0.70278156), (33, 0.73087156), (34, 0.78184116), (35, 0.7560528), (36, 0.76582426), (37, 0.7577482), (38, 0.76885384), (39, 0.7515002), (40, 0.7727213), (41, 0.75019693), (42, 0.7340085), (43, 0.78251594), (44, 0.7183307), (45, 0.7281709), (46, 0.74550754), (47, 0.78779584), (48, 0.76132685), (49, 0.6651526), (50, 0.7031555), (51, 0.6984807), (52, 0.7529911), (53, 0.7296632), (54, 0.77919614), (55, 0.7351345), (56, 0.772409), (57, 0.701752), (58, 0.74094933), (59, 0.80418956), (60, 0.72950214), (61, 0.7338094), (62, 0.8005568), (63, 0.7122651), (64, 0.8024486), (65, 0.6939989), (66, 0.70317996), (67, 0.77990925), (68, 0.7171662), (69, 0.80819184), (70, 0.74807954), (71, 0.7137318), (72, 0.7083525), (73, 0.72420955), (74, 0.7271079), (75, 0.7463385), (76, 0.7521187), (77, 0.72104645), (78, 0.7241644), (79, 0.5693055), (80, 0.7532109), (81, 0.70444155), (82, 0.7407901), (83, 0.73823154), (84, 0.7957567), (85, 0.806317), (86, 0.75638884), (87, 0.8121946), (88, 0.748706), (89, 0.7523646), (90, 0.7495397), (91, 0.77139115), (92, 0.68290955), (93, 0.74301594), (94, 0.76804364), (95, 0.7501995), (96, 0.7796657), (97, 0.7351446), (98, 0.73714834), (99, 0.7437333), (100, 0.77860683), (101, 0.76476717), (102, 0.67741126), (103, 0.7582439), (104, 0.757431), (105, 0.8020645), (106, 0.6868047), (107, 0.77273715), (108, 0.72940755), (109, 0.7338648), (110, 0.7077053), (111, 0.7321374), (112, 0.78057176), (113, 0.7097255), (114, 0.70303637), (115, 0.7493844), (116, 0.76803), (117, 0.83224005), (118, 0.7758129), (119, 0.7838329), (120, 0.78140056), (121, 0.8106402), (122, 0.7438146), (123, 0.7366944), (124, 0.7047181), (125, 0.74760616), (126, 0.78353685), (127, 0.7124835), (128, 0.7461817), (129, 0.7493533), (130, 0.76249844), (131, 0.77606505), (132, 0.7606645), (133, 0.79316854), (134, 0.73723364), (135, 0.820008), (136, 0.7971047), (137, 0.80849546), (138, 0.75876796), (139, 0.7585912), (140, 0.741544), (141, 0.7449854), (142, 0.74924153), (143, 0.74133116), (144, 0.785811), (145, 0.75764865), (146, 0.639151), (147, 0.78320634), (148, 0.7549132), (149, 0.7991911), (150, 0.75653255), (151, 0.7613117), (152, 0.7355008), (153, 0.7241735), (154, 0.7220563), (155, 0.7889509), (156, 0.74566746), (157, 0.7257847), (158, 0.77738893), (159, 0.7493671), (160, 0.8426008), (161, 0.74953425), (162, 0.73779774), (163, 0.72602344), (164, 0.7614839), (165, 0.7687305), (166, 0.78067523), (167, 0.7679576), (168, 0.78223777), (169, 0.7655369), (170, 0.75097), (171, 0.7635101), (172, 0.7947609), (173, 0.79978645), (174, 0.7214592), (175, 0.78397024), (176, 0.75754136), (177, 0.77302796), (178, 0.7206748), (179, 0.77461004), (180, 0.74030817), (181, 0.78222203), (182, 0.77241737), (183, 0.7522973), (184, 0.7994141), (185, 0.68393946), (186, 0.8103191), (187, 0.7655867), (188, 0.74022615), (189, 0.8321651), (190, 0.76311994), (191, 0.73261166), (192, 0.7291932), (193, 0.74628466), (194, 0.7729422), (195, 0.77137125), (196, 0.7551031), (197, 0.72729814), (198, 0.7181514), (199, 0.7677919), (200, 0.7133737), (201, 0.738278), (202, 0.7726967), (203, 0.71476287), (204, 0.7080692), (205, 0.71933377), (206, 0.41141903), (207, 0.70353913), (208, 0.833216), (209, 0.7598842), (210, 0.75357807), (211, 0.74885356), (212, 0.7936589), (213, 0.77266747), (214, 0.75933176), (215, 0.43879303), (216, 0.7880517), (217, 0.73032194), (218, 0.71228635), (219, 0.7582773), (220, 0.7361812), (221, 0.77857435), (222, 0.7847641), (223, 0.72242224), (224, 0.7848854), (225, 0.85242033), (226, 0.69580686), (227, 0.78469235), (228, 0.7806348), (229, 0.6234916), (230, 0.79089993), (231, 0.7771799), (232, 0.71355486), (233, 0.7299745), (234, 0.8013134), (235, 0.6843593), (236, 0.7222935), (237, 0.7647973), (238, 0.7575615), (239, 0.74883395), (240, 0.82194066), (241, 0.73209363), (242, 0.74623746), (243, 0.7636523), (244, 0.79482245), (245, 0.80574906), (246, 0.74805367), (247, 0.7537583), (248, 0.7978138), (249, 0.80441785), (250, 0.7801901), (251, 0.7617502), (252, 0.774597), (253, 0.7667272), (254, 0.70218354), (255, 0.78342825), (256, 0.76255864), (257, 0.64932376), (258, 0.7123526), (259, 0.64719945), (260, 0.71024895), (261, 0.6919016), (262, 0.7926066), (263, 0.17385916), (264, 0.7542635), (265, 0.6966312), (266, 0.78681713), (267, 0.7193884), (268, 0.7744662), (269, 0.7182302), (270, 0.79347086), (271, 0.7156968), (272, 0.73373646), (273, 0.70517755), (274, 0.7750916), (275, 0.75833875), (276, 0.8135119), (277, 0.777608), (278, 0.71456146), (279, 0.7178068), (280, 0.7180071), (281, 0.7595899), (282, 0.76046556), (283, 0.77784115), (284, 0.705838), (285, 0.75558835), (286, 0.75597537), (287, 0.77744764), (288, 0.7472727), (289, 0.76317453), (290, 0.65220064), (291, 0.76762855), (292, 0.7397084), (293, 0.7143243), (294, 0.82280755), (295, 0.76518923), (296, 0.75750023), (297, 0.82829374), (298, 0.73774725), (299, 0.78121644), (300, 0.71900463), (301, 0.6767048), (302, 0.7130164), (303, 0.75197226), (304, 0.7778926), (305, 0.81205356), (306, 0.7820639), (307, 0.7764996), (308, 0.75229734), (309, 0.75766546), (310, 0.80280024), (311, 0.76504976), (312, 0.8062136), (313, 0.7567589), (314, 0.79000986), (315, 0.77607566), (316, 0.7388377), (317, 0.7735354), (318, 0.7425503), (319, 0.72293276), (320, 0.66758215), (321, 0.74481803), (322, 0.78605145), (323, 0.7424672), (324, 0.7380247), (325, 0.830822), (326, 0.7254231), (327, 0.7847381), (328, 0.7755498), (329, 0.75668615), (330, 0.77473885), (331, 0.84566164), (332, 0.74690664), (333, 0.74804753), (334, 0.75559545), (335, 0.7913527), (336, 0.73958045), (337, 0.7790582), (338, 0.7886289), (339, 0.75631315), (340, 0.7694535), (341, 0.7278949), (342, 0.72527283), (343, 0.7464042), (344, 0.76214975), (345, 0.7273326), (346, 0.6775282), (347, 0.7672798), (348, 0.72328055), (349, 0.799743), (350, 0.7529203), (351, 0.77892107), (352, 0.7023817), (353, 0.7635075), (354, 0.7765856), (355, 0.81605524), (356, 0.74540025), (357, 0.7587897), (358, 0.839), (359, 0.77948153), (360, 0.763774), (361, 0.746499), (362, 0.82840294), (363, 0.7580863), (364, 0.7094832), (365, 0.7484606), (366, 0.7623794), (367, 0.81012404), (368, 0.672677), (369, 0.7287309), (370, 0.7657581), (371, 0.7568702), (372, 0.7245331), (373, 0.7625202), (374, 0.7531214), (375, 0.8165901), (376, 0.74602705), (377, 0.7046075), (378, 0.7646419), (379, 0.7220406), (380, 0.78799826), (381, 0.7380662), (382, 0.74738765), (383, 0.73287153), (384, 0.6866406), (385, 0.7995498), (386, 0.73951745), (387, 0.7261696), (388, 0.76478064), (389, 0.77717245), (390, 0.72574383), (391, 0.78626215), (392, 0.7530371), (393, 0.7833216), (394, 0.73746705), (395, 0.739507), (396, 0.7577806), (397, 0.7052313), (398, 0.763294), (399, 0.72386974), (400, 0.73685867), (401, 0.7345718), (402, 0.75407237), (403, 0.7697178), (404, 0.7322815), (405, 0.7733673), (406, 0.782425), (407, 0.76178235), (408, 0.7810679), (409, 0.7718318), (410, 0.78357327), (411, 0.73326004), (412, 0.7362512), (413, 0.77797323), (414, 0.8053901), (415, 0.80058473), (416, 0.7559945), (417, 0.76563334), (418, 0.7405844), (419, 0.69436145), (420, 0.77916676), (421, 0.7324055), (422, 0.7492014), (423, 0.7694861), (424, 0.7934162), (425, 0.7573727), (426, 0.73064965), (427, 0.73523927), (428, 0.5485692), (429, 0.7429529), (430, 0.7883107), (431, 0.73950285), (432, 0.7210058), (433, 0.7690495), (434, 0.76067907), (435, 0.7462401), (436, 0.7715234), (437, 0.72309136), (438, 0.78588724), (439, 0.73430496), (440, 0.7752496), (441, 0.76461685), (442, 0.7327897), (443, 0.7634322), (444, 0.78310794), (445, 0.7789562), (446, 0.7784824), (447, 0.74432516), (448, 0.734156), (449, 0.7143091), (450, 0.77186626), (451, 0.7503115), (452, 0.768923), (453, 0.78584033), (454, 0.7040384), (455, 0.7698668), (456, 0.770509), (457, 0.7903239), (458, 0.72390354), (459, 0.70511574), (460, 0.8011189), (461, 0.7855665), (462, 0.7797465), (463, 0.7562169), (464, 0.6887475), (465, 0.73452854), (466, 0.7274855), (467, 0.8242823), (468, 0.7492146), (469, 0.717574), (470, 0.7921031), (471, 0.66158617), (472, 0.67419755), (473, 0.73699325), (474, 0.75793684), (475, 0.71101815), (476, 0.7387575), (477, 0.67662644), (478, 0.12494327), (479, 0.74690664), (480, 0.69359654), (481, 0.74951684), (482, 0.791549), (483, 0.6320852), (484, 0.76684445), (485, 0.81240875), (486, 0.7288747), (487, 0.6912201), (488, 0.71427274), (489, 0.8351113), (490, 0.7532387), (491, 0.75809264), (492, 0.74956524), (493, 0.733265), (494, 0.753169), (495, 0.7403911), (496, 0.7415734), (497, 0.724521), (498, 0.684891), (499, 0.8085166), (500, 0.76933527), (501, 0.77848923), (502, 0.7436662), (503, 0.77466935), (504, 0.76694685), (505, 0.7077016), (506, 0.76705766), (507, 0.7269478), (508, 0.77821195), (509, 0.7441492), (510, 0.75038487), (511, 0.7300843), (512, 0.7748386), (513, 0.7199106), (514, 0.7929468), (515, 0.7530641), (516, 0.73338896), (517, 0.7506882), (518, 0.7490353), (519, 0.77770585), (520, 0.74228925), (521, 0.792291), (522, 0.66293764), (523, 0.7950438), (524, 0.7635792), (525, 0.68141353), (526, 0.8025767), (527, 0.7761594), (528, 0.74191916), (529, 0.78935695), (530, 0.744766), (531, 0.7707144), (532, 0.7107152), (533, 0.70465565), (534, 0.7300958), (535, 0.7686819), (536, 0.7627786), (537, 0.8478713), (538, 0.7786347), (539, 0.715063), (540, 0.72747725), (541, 0.7692711), (542, 0.7582935), (543, 0.75883865), (544, 0.73646516), (545, 0.75479543), (546, 0.7697657), (547, 0.7440761), (548, 0.6778567), (549, 0.7259972), (550, 0.76350844), (551, 0.75510514), (552, 0.7910994), (553, 0.77221394), (554, 0.789175), (555, 0.7747705), (556, 0.8022092), (557, 0.73463875), (558, 0.7653141), (559, 0.76656), (560, 0.72001153), (561, 0.7638029), (562, 0.7820165), (563, 0.73308986), (564, 0.81761086), (565, 0.81108487), (566, 0.7838712), (567, 0.7714455), (568, 0.78405315), (569, 0.7105448), (570, 0.7306949), (571, 0.7886878), (572, 0.7813032), (573, 0.7891764), (574, 0.7996717), (575, 0.7584787), (576, 0.7408983), (577, 0.8065396), (578, 0.7708339), (579, 0.67571497), (580, 0.79477376), (581, 0.7771645), (582, 0.76025575), (583, 0.72236687), (584, 0.79238343), (585, 0.8060954), (586, 0.75102687), (587, 0.7416958), (588, 0.7623923), (589, 0.7529125), (590, 0.6473004), (591, 0.75240356), (592, 0.7589092), (593, 0.7792976), (594, 0.7738336), (595, 0.7704354), (596, 0.7450824), (597, 0.7452538), (598, 0.76245886), (599, 0.7809147), (600, 0.76549435), (601, 0.7175202), (602, 0.75558835), (603, 0.74499995), (604, 0.7679324), (605, 0.781277), (606, 0.8467318), (607, 0.7349602), (608, 0.8037224), (609, 0.7505431), (610, 0.7976799), (611, 0.66470057), (612, 0.79670906), (613, 0.78146654), (614, 0.8023926), (615, 0.7552214), (616, 0.78847516), (617, 0.70505476), (618, 0.7350876), (619, 0.7071454), (620, 0.782544), (621, 0.75610435), (622, 0.7654449), (623, 0.6764214), (624, 0.7657878), (625, 0.7819759), (626, 0.80315316), (627, 0.80672616), (628, 0.76158595), (629, 0.7941164), (630, 0.8221443), (631, 0.771343), (632, 0.77187246), (633, 0.77777934), (634, 0.7805793), (635, 0.7683039), (636, 0.75600594), (637, 0.77057546), (638, 0.7789814), (639, 0.75641745), (640, 0.78928435), (641, 0.7706807), (642, 0.7048117), (643, 0.7478975), (644, 0.7529777), (645, 0.7153806), (646, 0.7919035), (647, 0.7322111), (648, 0.7800009), (649, 0.7909325), (650, 0.791277), (651, 0.7472194), (652, 0.7434328), (653, 0.7981261), (654, 0.71723837), (655, 0.752109), (656, 0.7629626), (657, 0.76920336), (658, 0.7983479), (659, 0.81253916), (660, 0.7819379), (661, 0.77293164), (662, 0.7918197), (663, 0.74585915), (664, 0.7761136), (665, 0.58995765), (666, 0.7518503), (667, 0.6995732), (668, 0.7537262), (669, 0.6286745), (670, 0.74680483), (671, 0.764182), (672, 0.14629936), (673, 0.73708403), (674, 0.73386496), (675, 0.7349734), (676, 0.7484467), (677, 0.69190884), (678, 0.7626276), (679, 0.7984398), (680, 0.7877373), (681, 0.7504185), (682, 0.7373983), (683, 0.7723978), (684, 0.75730413), (685, 0.72874546), (686, 0.7327535), (687, 0.7979691), (688, 0.76609385), (689, 0.7773745), (690, 0.768897), (691, 0.7406041), (692, 0.82288945), (693, 0.7559949), (694, 0.73456013), (695, 0.78370297), (696, 0.7354935), (697, 0.6943983), (698, 0.72307104), (699, 0.80064493), (700, 0.79178613), (701, 0.7761088), (702, 0.72512144), (703, 0.68761194), (704, 0.7754984), (705, 0.6968033), (706, 0.76615876), (707, 0.8045142), (708, 0.7553947), (709, 0.7834377), (710, 0.78762966), (711, 0.724361), (712, 0.7668528), (713, 0.80934584), (714, 0.71167237), (715, 0.7744068), (716, 0.7599666), (717, 0.7151523), (718, 0.75391877), (719, 0.7580405), (720, 0.7792735), (721, 0.6862713), (722, 0.7994309), (723, 0.7588343), (724, 0.7908539), (725, 0.74691856), (726, 0.77371854), (727, 0.788951), (728, 0.74189955), (729, 0.7531469), (730, 0.7648371), (731, 0.7710355), (732, 0.7414584), (733, 0.6849305), (734, 0.77223986), (735, 0.74300426), (736, 0.7747739), (737, 0.7745454), (738, 0.79527915), (739, 0.74380386), (740, 0.73893625), (741, 0.7538962), (742, 0.75305027), (743, 0.71148705), (744, 0.74080104), (745, 0.7418051), (746, 0.7966337), (747, 0.76726264), (748, 0.7505855), (749, 0.77376443), (750, 0.768612), (751, 0.75826377), (752, 0.75042903), (753, 0.80566686), (754, 0.76465577), (755, 0.77601445), (756, 0.7327446), (757, 0.727247), (758, 0.78080136), (759, 0.742209), (760, 0.7658416), (761, 0.78840333), (762, 0.7542591), (763, 0.7477495), (764, 0.7749679), (765, 0.7578424), (766, 0.7985682), (767, 0.8267053), (768, 0.7680336), (769, 0.7356625), (770, 0.75233066), (771, 0.79603946), (772, 0.76110286), (773, 0.71880496), (774, 0.7298877), (775, 0.6982107), (776, 0.7844594), (777, 0.7812422), (778, 0.7163985), (779, 0.7179906), (780, 0.73978823), (781, 0.70816284), (782, 0.6735559), (783, 0.7725593), (784, 0.7426097), (785, 0.8285658), (786, 0.6690977), (787, 0.7243275), (788, 0.78566307), (789, 0.7767418), (790, 0.7431775), (791, 0.68738794), (792, 0.75042045), (793, 0.6833753), (794, 0.73088276), (795, 0.78199506), (796, 0.7615752), (797, 0.7396858), (798, 0.8043339), (799, 0.75205326), (800, 0.784256), (801, 0.7814758), (802, 0.7570108), (803, 0.7392002), (804, 0.771469), (805, 0.80302167), (806, 0.7544519), (807, 0.7416182), (808, 0.754747), (809, 0.76975644), (810, 0.82479113), (811, 0.7812749), (812, 0.77137977), (813, 0.808349), (814, 0.7749257), (815, 0.774184), (816, 0.7680284), (817, 0.7968701), (818, 0.77438015), (819, 0.73834807), (820, 0.7834091), (821, 0.7184262), (822, 0.7727156), (823, 0.6581804), (824, 0.77425957), (825, 0.7467731), (826, 0.75322574), (827, 0.79092133), (828, 0.67475003), (829, 0.7519656), (830, 0.65616614), (831, 0.73499656), (832, 0.7460756), (833, 0.8035989), (834, 0.8039592), (835, 0.6959773), (836, 0.72015893), (837, 0.7408059), (838, 0.7792865), (839, 0.7554588), (840, 0.80113095), (841, 0.7432019), (842, 0.7329023), (843, 0.72963464), (844, 0.74356097), (845, 0.7904752), (846, 0.7966997), (847, 0.67379814), (848, 0.76801443), (849, 0.78955007), (850, 0.76110715), (851, 0.81912863), (852, 0.74999267), (853, 0.76940095), (854, 0.7171265), (855, 0.7902663), (856, 0.7642284), (857, 0.81203324), (858, 0.7863315), (859, 0.75432384), (860, 0.78986144), (861, 0.5195589), (862, 0.738473), (863, 0.786483), (864, 0.81459785), (865, 0.72751796), (866, 0.77826804), (867, 0.78847605), (868, 0.7371271), (869, 0.73632056), (870, 0.79763466), (871, 0.7558807), (872, 0.7748353), (873, 0.8008903), (874, 0.788189), (875, 0.8108769), (876, 0.77990776), (877, 0.82406557), (878, 0.7293271), (879, 0.72274613), (880, 0.71778345), (881, 0.783038), (882, 0.77900696), (883, 0.79182035), (884, 0.79181176), (885, 0.79004073), (886, 0.7354791), (887, 0.8391765), (888, 0.7499619), (889, 0.8248517), (890, 0.8198344), (891, 0.71264887), (892, 0.77555263), (893, 0.7302531), (894, 0.76607895), (895, 0.7241301), (896, 0.8243896), (897, 0.7603645), (898, 0.72965884), (899, 0.77450913), (900, 0.7995273), (901, 0.76045823), (902, 0.7169289), (903, 0.7485013), (904, 0.79387474), (905, 0.7586641), (906, 0.73884463), (907, 0.83895975), (908, 0.72547686), (909, 0.7234991), (910, 0.7835531), (911, 0.77559286), (912, 0.7467146), (913, 0.7628171), (914, 0.74299806), (915, 0.7798515), (916, 0.76107943), (917, 0.7428719), (918, 0.7590425), (919, 0.74733263), (920, 0.78531086), (921, 0.75382066), (922, 0.72603816), (923, 0.76891625), (924, 0.7475638), (925, 0.65716493), (926, 0.74375784), (927, 0.7550155), (928, 0.7506881), (929, 0.7500135), (930, 0.79587954), (931, 0.76502997), (932, 0.6759137), (933, 0.7727387), (934, 0.74458444), (935, 0.7843467), (936, 0.79953974), (937, 0.7331315), (938, 0.77742386), (939, 0.7584846), (940, 0.65342486), (941, 0.7674813), (942, 0.6564638), (943, 0.76090723), (944, 0.7573662), (945, 0.7742105), (946, 0.7328144), (947, 0.7490825), (948, 0.7795601), (949, 0.7470605), (950, 0.7852824), (951, 0.73156667), (952, 0.7113201), (953, 0.595523), (954, 0.78325176), (955, 0.74849665), (956, 0.74654377), (957, 0.75007737), (958, 0.74331), (959, 0.73980176), (960, 0.7585976), (961, 0.7312241), (962, 0.76000184), (963, 0.7498246), (964, 0.75120085), (965, 0.7804837), (966, 0.7899743), (967, 0.2876955), (968, 0.7257432), (969, 0.7370472), (970, 0.75351644), (971, 0.82633406), (972, 0.75406986), (973, 0.7825422), (974, 0.78865117), (975, 0.7600644), (976, 0.7527923), (977, 0.73743457), (978, 0.72506064), (979, 0.8150424), (980, 0.7398156), (981, 0.80613434), (982, 0.74690664), (983, 0.8154421), (984, 0.6536636), (985, 0.72845024), (986, 0.71263474), (987, 0.75744444), (988, 0.8043888), (989, 0.766745), (990, 0.7291659), (991, 0.8008747), (992, 0.673852), (993, 0.68556947), (994, 0.7413503), (995, 0.69736934), (996, 0.7285238), (997, 0.7684905), (998, 0.7703223), (999, 0.7726426), (1000, 0.75606406), (1001, 0.75018), (1002, 0.7252064), (1003, 0.74138373), (1004, 0.76076293), (1005, 0.75043327), (1006, 0.76638985), (1007, 0.772785), (1008, 0.5485692), (1009, 0.79961365), (1010, 0.770601), (1011, 0.6516738), (1012, 0.79062843), (1013, 0.7513184), (1014, 0.7902168), (1015, 0.7584459), (1016, 0.75812155), (1017, 0.74842995), (1018, 0.77960396), (1019, 0.7510743), (1020, 0.81285894), (1021, 0.7855772), (1022, 0.83574307), (1023, 0.7734971), (1024, 0.78354794), (1025, 0.7424666), (1026, 0.76414615), (1027, 0.7319289), (1028, 0.778504), (1029, 0.74945396), (1030, 0.74043), (1031, 0.7734681), (1032, 0.78652704), (1033, 0.727628), (1034, 0.6916195), (1035, 0.74945396), (1036, 0.67990077), (1037, 0.7923877), (1038, 0.7519674), (1039, 0.7877891), (1040, 0.76499164), (1041, 0.74143845), (1042, 0.78091514), (1043, 0.751911), (1044, 0.7303179), (1045, 0.80257636), (1046, 0.74242055), (1047, 0.74654824), (1048, 0.725296), (1049, 0.78911614), (1050, 0.73830855), (1051, 0.7656804), (1052, 0.788774), (1053, 0.7446924), (1054, 0.71854746), (1055, 0.7539542), (1056, 0.7984343), (1057, 0.79241514), (1058, 0.7934677), (1059, 0.7737591), (1060, 0.7013875), (1061, 0.74181974), (1062, 0.79380363), (1063, 0.7456121), (1064, 0.7307769), (1065, 0.79971856), (1066, 0.7620746), (1067, 0.73397064), (1068, 0.76918423), (1069, 0.77731323), (1070, 0.7631145), (1071, 0.6571337), (1072, 0.7258007), (1073, 0.77471656), (1074, 0.8147925), (1075, 0.7483936), (1076, 0.7290106), (1077, 0.7498093), (1078, 0.804986), (1079, 0.66094005), (1080, 0.67890376), (1081, 0.78098154), (1082, 0.7226188), (1083, 0.84127736), (1084, 0.7966688), (1085, 0.7830379), (1086, 0.7302531), (1087, 0.71399826), (1088, 0.7397226), (1089, 0.78214127), (1090, 0.7626832), (1091, 0.7737726), (1092, 0.7852271), (1093, 0.62347335), (1094, 0.79394275), (1095, 0.72994316), (1096, 0.7515126), (1097, 0.7779394), (1098, 0.76975507), (1099, 0.74562305), (1100, 0.71375644), (1101, 0.7798047), (1102, 0.76091063), (1103, 0.73634374), (1104, 0.75958806), (1105, 0.78780144), (1106, 0.7773812), (1107, 0.7226796), (1108, 0.70740235), (1109, 0.74414784), (1110, 0.8006938), (1111, 0.7596152), (1112, 0.74486595), (1113, 0.73110574), (1114, 0.74406886), (1115, 0.7232072), (1116, 0.74937737), (1117, 0.6991387), (1118, 0.75744635), (1119, 0.7657688), (1120, 0.78020614), (1121, 0.7806014), (1122, 0.7024689), (1123, 0.76242477), (1124, 0.7742493), (1125, 0.7719715), (1126, 0.79006207), (1127, 0.7252929), (1128, 0.7655234), (1129, 0.72416604), (1130, 0.7646188), (1131, 0.72224027), (1132, 0.7538673), (1133, 0.8096409), (1134, 0.7170057), (1135, 0.78762174), (1136, 0.78112984), (1137, 0.8122355), (1138, 0.7798992), (1139, 0.77367544), (1140, 0.7677251), (1141, 0.7921854), (1142, 0.7248113), (1143, 0.73589575), (1144, 0.743865), (1145, 0.6913361), (1146, 0.61686915), (1147, 0.64987934), (1148, 0.6393311), (1149, 0.7648552), (1150, 0.79348814), (1151, 0.8188827), (1152, 0.7408352), (1153, 0.7397778), (1154, 0.15432166), (1155, 0.7398872), (1156, 0.807623), (1157, 0.7544607), (1158, 0.7407847), (1159, 0.8039457), (1160, 0.7784261), (1161, 0.75340587), (1162, 0.7527356), (1163, 0.7136213), (1164, 0.79410297), (1165, 0.80296814), (1166, 0.73775387), (1167, 0.7469217), (1168, 0.7805275), (1169, 0.7644295), (1170, 0.815889), (1171, 0.77057034), (1172, 0.83235246), (1173, 0.8217031), (1174, 0.64956236), (1175, 0.7647638), (1176, 0.7752854), (1177, 0.7751134), (1178, 0.80082166), (1179, 0.7907316), (1180, 0.69423103), (1181, 0.7651792), (1182, 0.7288946), (1183, 0.7381954), (1184, 0.80104655), (1185, 0.72202927), (1186, 0.74105215), (1187, 0.7244363), (1188, 0.7205967), (1189, 0.7262297), (1190, 0.7161516), (1191, 0.6810323), (1192, 0.7117107), (1193, 0.726678), (1194, 0.6932536), (1195, 0.6578083), (1196, 0.64582086), (1197, 0.7002126), (1198, 0.6985637), (1199, 0.7275089), (1200, 0.6879881), (1201, 0.6456106), (1202, 0.7508861), (1203, 0.6773012), (1204, 0.6730588), (1205, 0.69605166), (1206, 0.69494534), (1207, 0.6804866), (1208, 0.7454284), (1209, 0.7543267), (1210, 0.6965774), (1211, 0.749947), (1212, 0.7748637), (1213, 0.72098744), (1214, 0.71444386), (1215, 0.7274603), (1216, 0.6607466), (1217, 0.66041744), (1218, 0.6900452), (1219, 0.71061397), (1220, 0.7114584), (1221, 0.7371264), (1222, 0.71431535), (1223, 0.65148306), (1224, 0.7215914), (1225, 0.6884523), (1226, 0.7161859), (1227, 0.72732896), (1228, 0.7306823), (1229, 0.65350014), (1230, 0.69891906), (1231, 0.7546816), (1232, 0.7480445), (1233, 0.68985033), (1234, 0.6707969), (1235, 0.72402066), (1236, 0.7252213), (1237, 0.71422076), (1238, 0.7130617), (1239, 0.6737223), (1240, 0.738673), (1241, 0.6515896), (1242, 0.7084972), (1243, 0.7138532), (1244, 0.68152803), (1245, 0.6803528), (1246, 0.69541615), (1247, 0.7361518), (1248, 0.6483953), (1249, 0.7656637), (1250, 0.6821018), (1251, 0.7307717), (1252, 0.7402809), (1253, 0.71123666), (1254, 0.7348326), (1255, 0.74737865), (1256, 0.6539775), (1257, 0.7094182), (1258, 0.7348599), (1259, 0.70205915), (1260, 0.6941502), (1261, 0.6900037), (1262, 0.7003553), (1263, 0.76096547), (1264, 0.7338932), (1265, 0.72113496), (1266, 0.72536546), (1267, 0.57948166), (1268, 0.7443812), (1269, 0.69671595), (1270, 0.6755666), (1271, 0.6850723), (1272, 0.67630297), (1273, 0.6987947), (1274, 0.73061854), (1275, 0.6677662), (1276, 0.7164143), (1277, 0.7309194), (1278, 0.7243847), (1279, 0.7542702), (1280, 0.68832505), (1281, 0.74517643), (1282, 0.7322411), (1283, 0.7020648), (1284, 0.7304307), (1285, 0.7633108), (1286, 0.7358634), (1287, 0.68488085), (1288, 0.7535629), (1289, 0.7380294), (1290, 0.701762), (1291, 0.7115978), (1292, 0.6816894), (1293, 0.7136694), (1294, 0.7355982), (1295, 0.68985033), (1296, 0.7192649), (1297, 0.6925193), (1298, 0.73004615), (1299, 0.7186006), (1300, 0.70491225), (1301, 0.6881941), (1302, 0.7247446), (1303, 0.6424218), (1304, 0.67808294), (1305, 0.6759225), (1306, 0.7510743), (1307, 0.70679754), (1308, 0.6719986), (1309, 0.69367003), (1310, 0.7325591), (1311, 0.6949869), (1312, 0.69170696), (1313, 0.64714855), (1314, 0.71996397), (1315, 0.6762318), (1316, 0.7154747), (1317, 0.7252822), (1318, 0.631552), (1319, 0.7836523), (1320, 0.7269671), (1321, 0.7320985), (1322, 0.67069227), (1323, 0.7419749), (1324, 0.7689167), (1325, 0.705355), (1326, 0.6800771), (1327, 0.63811404), (1328, 0.71768725), (1329, 0.7522114), (1330, 0.74901086), (1331, 0.7221247), (1332, 0.7595426), (1333, 0.68901867), (1334, 0.7307454), (1335, 0.692667), (1336, 0.68800056), (1337, 0.69100446), (1338, 0.74932224), (1339, 0.7235313), (1340, 0.6959992), (1341, 0.74315596), (1342, 0.61304057), (1343, 0.7482456), (1344, 0.6839766), (1345, 0.6877979), (1346, 0.6381947), (1347, 0.71588534), (1348, 0.6429827), (1349, 0.6800449), (1350, 0.7400885), (1351, 0.7080602), (1352, 0.7379827), (1353, 0.67268074), (1354, 0.7534725), (1355, 0.7374936), (1356, 0.6992523), (1357, 0.68051326), (1358, 0.729761), (1359, 0.7228352), (1360, 0.7120597), (1361, 0.74148345), (1362, 0.72324204), (1363, 0.7635792), (1364, 0.68669933), (1365, 0.7243684), (1366, 0.7102191), (1367, 0.7316843), (1368, 0.7001947), (1369, 0.75074583), (1370, 0.72982943), (1371, 0.73372036), (1372, 0.71363884), (1373, 0.73828536), (1374, 0.72065425), (1375, 0.7594839), (1376, 0.68892217), (1377, 0.72438306), (1378, 0.65311635), (1379, 0.6654451), (1380, 0.7178037), (1381, 0.70935297), (1382, 0.65848035), (1383, 0.70212114), (1384, 0.70641), (1385, 0.74718165), (1386, 0.65203315), (1387, 0.75139445), (1388, 0.7309299), (1389, 0.6830654), (1390, 0.7000038), (1391, 0.69723946), (1392, 0.7243703), (1393, 0.6716313), (1394, 0.7425294), (1395, 0.6897546), (1396, 0.7415743), (1397, 0.7571338), (1398, 0.7261025), (1399, 0.72358215), (1400, 0.73796356), (1401, 0.7319116), (1402, 0.6550993), (1403, 0.7617566), (1404, 0.7458521), (1405, 0.6155963), (1406, 0.7248709), (1407, 0.67614067), (1408, 0.6812333), (1409, 0.7230977), (1410, 0.75738925), (1411, 0.7318099), (1412, 0.7392599), (1413, 0.7736654), (1414, 0.71690935), (1415, 0.74651986), (1416, 0.7154738), (1417, 0.74407244), (1418, 0.75862813), (1419, 0.76552665), (1420, 0.7384072), (1421, 0.7062966), (1422, 0.7367753), (1423, 0.66141057), (1424, 0.771701), (1425, 0.6661258), (1426, 0.6596113), (1427, 0.69200826), (1428, 0.732098), (1429, 0.7407795), (1430, 0.7496646), (1431, 0.7265422), (1432, 0.6615842), (1433, 0.71283174), (1434, 0.74305785), (1435, 0.709626), (1436, 0.7057618), (1437, 0.74091023), (1438, 0.6518914), (1439, 0.7440737), (1440, 0.7377486), (1441, 0.7161386), (1442, 0.745608), (1443, 0.72894186), (1444, 0.7342851), (1445, 0.72231585), (1446, 0.74641865), (1447, 0.686939), (1448, 0.6997095), (1449, 0.74099153), (1450, 0.7257342), (1451, 0.7330186), (1452, 0.71093297), (1453, 0.7076028), (1454, 0.77799475), (1455, 0.6427368), (1456, 0.6841836), (1457, 0.7799725), (1458, 0.7783377), (1459, 0.751027), (1460, 0.7206704), (1461, 0.71977556), (1462, 0.7396693), (1463, 0.7387562), (1464, 0.6685032), (1465, 0.7469258), (1466, 0.6670534), (1467, 0.78768814), (1468, 0.70044154), (1469, 0.7483118), (1470, 0.72188085), (1471, 0.71963215), (1472, 0.6891237), (1473, 0.75705755), (1474, 0.6724445), (1475, 0.67391396), (1476, 0.778649), (1477, 0.77883434), (1478, 0.73526955), (1479, 0.70717627), (1480, 0.7094472), (1481, 0.75437886), (1482, 0.72886115), (1483, 0.7133179), (1484, 0.6579801), (1485, 0.72668284), (1486, 0.7449959), (1487, 0.6931589), (1488, 0.724556), (1489, 0.64805865), (1490, 0.71360624), (1491, 0.73410755), (1492, 0.674616), (1493, 0.7206704), (1494, 0.7039585), (1495, 0.6668421), (1496, 0.73336244), (1497, 0.71356344), (1498, 0.11785985), (1499, 0.75218046), (1500, 0.7206113), (1501, 0.6612333), (1502, 0.7587542), (1503, 0.71613985), (1504, 0.666036), (1505, 0.7330267), (1506, 0.6842232), (1507, 0.74602103), (1508, 0.6920429), (1509, 0.70929074), (1510, 0.7463613), (1511, 0.722043), (1512, 0.7034848), (1513, 0.7650759), (1514, 0.70343125), (1515, 0.7269108), (1516, 0.7043563), (1517, 0.7023956), (1518, 0.72819215), (1519, 0.6405868), (1520, 0.652509), (1521, 0.6710033), (1522, 0.68970823), (1523, 0.64212084), (1524, 0.71165884), (1525, 0.74918735), (1526, 0.6758293), (1527, 0.74296427), (1528, 0.6911234), (1529, 0.52631325), (1530, 0.694578), (1531, 0.61072546), (1532, 0.6906534), (1533, 0.72748333), (1534, 0.68751645), (1535, 0.76000744), (1536, 0.71152306), (1537, 0.70312333), (1538, 0.73455644), (1539, 0.7366706), (1540, 0.7319018), (1541, 0.71420336), (1542, 0.64784), (1543, 0.6184594), (1544, 0.7112653), (1545, 0.728006), (1546, 0.6801674), (1547, 0.7261206), (1548, 0.67374426), (1549, 0.6784766), (1550, 0.69272065), (1551, 0.7444612), (1552, 0.6784438), (1553, 0.67084646), (1554, 0.74782354), (1555, 0.69926727), (1556, 0.6981993), (1557, 0.6845928), (1558, 0.7424315), (1559, 0.6879572), (1560, 0.7465976), (1561, 0.7341357), (1562, 0.6954064), (1563, 0.7388732), (1564, 0.73869604), (1565, 0.688311), (1566, 0.72238475), (1567, 0.7706635), (1568, 0.74805254), (1569, 0.6876179), (1570, 0.6669374), (1571, 0.7303496), (1572, 0.7206704), (1573, 0.703927), (1574, 0.71529233), (1575, 0.7360377), (1576, 0.7058295), (1577, 0.73975855), (1578, 0.711567), (1579, 0.7249306), (1580, 0.6891989), (1581, 0.7231622), (1582, 0.7653713), (1583, 0.7263479), (1584, 0.73948675), (1585, 0.6708534), (1586, 0.7258711), (1587, 0.72039646), (1588, 0.73467386), (1589, 0.6955605), (1590, 0.72676826), (1591, 0.708524), (1592, 0.7327045), (1593, 0.71404904), (1594, 0.71896154), (1595, 0.70429176), (1596, 0.7191883), (1597, 0.7250629), (1598, 0.73842365), (1599, 0.7168383), (1600, 0.67607176), (1601, 0.72393095), (1602, 0.70255864), (1603, 0.7044343), (1604, 0.6580274), (1605, 0.68708986), (1606, 0.7583692), (1607, 0.7217563), (1608, 0.64663136), (1609, 0.7295915), (1610, 0.7236229), (1611, 0.6945614), (1612, 0.72289985), (1613, 0.6979513), (1614, 0.7495593), (1615, 0.7483874), (1616, 0.714822), (1617, 0.69254726), (1618, 0.6644077), (1619, 0.6704934), (1620, 0.67131877), (1621, 0.7138454), (1622, 0.73377013), (1623, 0.72933215), (1624, 0.76130754), (1625, 0.7183772), (1626, 0.6658726), (1627, 0.6791364), (1628, 0.6752397), (1629, 0.7804718), (1630, 0.7174506), (1631, 0.6939632), (1632, 0.6647016), (1633, 0.6947059), (1634, 0.76138234), (1635, 0.72262716), (1636, 0.73674846), (1637, 0.71149236), (1638, 0.7020663), (1639, 0.7015689), (1640, 0.710869), (1641, 0.6054183), (1642, 0.7531887), (1643, 0.6598965), (1644, 0.7715744), (1645, 0.71986234), (1646, 0.72577864), (1647, 0.70149213), (1648, 0.76145995), (1649, 0.7630225), (1650, 0.7008836), (1651, 0.63252246), (1652, 0.68529207), (1653, 0.722055), (1654, 0.72098863), (1655, 0.70201826), (1656, 0.6798356), (1657, 0.7659912), (1658, 0.6973849), (1659, 0.7048797), (1660, 0.6535079), (1661, 0.7535094), (1662, 0.7439015), (1663, 0.75445753), (1664, 0.6951764), (1665, 0.7151918), (1666, 0.6829297), (1667, 0.73306984), (1668, 0.72979885), (1669, 0.62601143), (1670, 0.71219397), (1671, 0.69821817), (1672, 0.7000542), (1673, 0.7401761), (1674, 0.73562795), (1675, 0.6841204), (1676, 0.72271645), (1677, 0.7487068), (1678, 0.69796115), (1679, 0.7366833), (1680, 0.7030107), (1681, 0.6565198), (1682, 0.70360523), (1683, 0.6604638), (1684, 0.737786), (1685, 0.737508), (1686, 0.73184425), (1687, 0.73293614), (1688, 0.6737531), (1689, 0.7205259), (1690, 0.77907985), (1691, 0.67070866), (1692, 0.75716746), (1693, 0.65067995), (1694, 0.726699), (1695, 0.76093715), (1696, 0.59805685), (1697, 0.5734646), (1698, 0.7453302), (1699, 0.7008422), (1700, 0.71215844), (1701, 0.6409435), (1702, 0.6808691), (1703, 0.710586), (1704, 0.6957333), (1705, 0.69994134), (1706, 0.7156516), (1707, 0.6849212), (1708, 0.73171145), (1709, 0.593799), (1710, 0.7755546), (1711, 0.6648383), (1712, 0.69187975), (1713, 0.709234), (1714, 0.66890067), (1715, 0.7192003), (1716, 0.7125112), (1717, 0.74669904), (1718, 0.71020615), (1719, 0.742488), (1720, 0.7016236), (1721, 0.7527257), (1722, 0.6949701), (1723, 0.60644835), (1724, 0.67191386), (1725, 0.6614239), (1726, 0.7353598), (1727, 0.76259625), (1728, 0.68849516), (1729, 0.66122997), (1730, 0.6946921), (1731, 0.7544579), (1732, 0.72707134), (1733, 0.75139445), (1734, 0.7281001), (1735, 0.714078), (1736, 0.6151647), (1737, 0.753614), (1738, 0.6906381), (1739, 0.67827314), (1740, 0.68598616), (1741, 0.75862855), (1742, 0.67909783), (1743, 0.734717), (1744, 0.66800034), (1745, 0.7410221), (1746, 0.7161327), (1747, 0.6125086), (1748, 0.65599906), (1749, 0.6399637), (1750, 0.72557783), (1751, 0.7380588), (1752, 0.69357526), (1753, 0.6582371), (1754, 0.71609676), (1755, 0.7438002), (1756, 0.7291813), (1757, 0.6918061), (1758, 0.68209577), (1759, 0.70927125), (1760, 0.7093671), (1761, 0.7531976), (1762, 0.6924303), (1763, 0.690815), (1764, 0.7153263), (1765, 0.74364245), (1766, 0.7686985), (1767, 0.74765784), (1768, 0.68583304), (1769, 0.7469742), (1770, 0.661937), (1771, 0.6477766), (1772, 0.7013634), (1773, 0.6754325), (1774, 0.6522257), (1775, 0.7134476), (1776, 0.70417), (1777, 0.7323942), (1778, 0.75824046), (1779, 0.68329436), (1780, 0.72824866), (1781, 0.7049458), (1782, 0.70305717), (1783, 0.73270196), (1784, 0.646919), (1785, 0.7275117), (1786, 0.6699095), (1787, 0.7543777), (1788, 0.70178276), (1789, 0.6962769), (1790, 0.71295005), (1791, 0.6856368), (1792, 0.7018801), (1793, 0.71089894), (1794, 0.7009228), (1795, 0.68928784), (1796, 0.7318493), (1797, 0.7016664), (1798, 0.6881194), (1799, 0.7176451), (1800, 0.7146813), (1801, 0.7082685), (1802, 0.78249925), (1803, 0.7196285), (1804, 0.72670144), (1805, 0.71896833), (1806, 0.6757091), (1807, 0.7414291), (1808, 0.75234425), (1809, 0.72823644), (1810, 0.70789266), (1811, 0.68587506), (1812, 0.68754375), (1813, 0.7005893), (1814, 0.7367675), (1815, 0.75249827), (1816, 0.7789677), (1817, 0.66475713), (1818, 0.7806294), (1819, 0.7178141), (1820, 0.75277555), (1821, 0.71995246), (1822, 0.6625009), (1823, 0.6719307), (1824, 0.6385359), (1825, 0.6284696), (1826, 0.6808578), (1827, 0.7879247), (1828, 0.7216997), (1829, 0.7338865), (1830, 0.6340952), (1831, 0.63698316), (1832, 0.7469274), (1833, 0.7139307), (1834, 0.73484266), (1835, 0.7000434), (1836, 0.7125392), (1837, 0.6761601), (1838, 0.7600943), (1839, 0.7163093), (1840, 0.69009066), (1841, 0.19334051), (1842, 0.75283873), (1843, 0.7598659), (1844, 0.7170503), (1845, 0.7354599), (1846, 0.70834565), (1847, 0.75858676), (1848, 0.69734514), (1849, 0.725162), (1850, 0.7378934), (1851, 0.72837174), (1852, 0.73523915), (1853, 0.7192265), (1854, 0.7360763), (1855, 0.71297383), (1856, 0.76655555), (1857, 0.74560314), (1858, 0.7175926), (1859, 0.7088583), (1860, 0.75340337), (1861, 0.6353477), (1862, 0.7574868), (1863, 0.71625215), (1864, 0.7094201), (1865, 0.6633234), (1866, 0.72539663), (1867, 0.7201624), (1868, 0.7431083), (1869, 0.6707464), (1870, 0.66203076), (1871, 0.7218573), (1872, 0.74085426), (1873, 0.7112544), (1874, 0.7732116), (1875, 0.74152124), (1876, 0.7585844), (1877, 0.7054895), (1878, 0.69672734), (1879, 0.74849313), (1880, 0.761458), (1881, 0.7263002), (1882, 0.7354325), (1883, 0.71524477), (1884, 0.5794487), (1885, 0.68960565), (1886, 0.7170243), (1887, 0.7080892), (1888, 0.67549694), (1889, 0.73164594), (1890, 0.74968946), (1891, 0.7202934), (1892, 0.75650924), (1893, 0.7642553), (1894, 0.76073986), (1895, 0.72641355), (1896, 0.7018581), (1897, 0.7486643), (1898, 0.73234963), (1899, 0.681999), (1900, 0.68657875), (1901, 0.7453733), (1902, 0.7249341), (1903, 0.6745235), (1904, 0.7317805), (1905, 0.72996116), (1906, 0.72707975), (1907, 0.78388387), (1908, 0.6423064), (1909, 0.728793), (1910, 0.71198255), (1911, 0.74890035), (1912, 0.6961983), (1913, 0.708477), (1914, 0.63127345), (1915, 0.73853385), (1916, 0.7623047), (1917, 0.69741875), (1918, 0.725397), (1919, 0.71389705), (1920, 0.6584284), (1921, 0.6941814), (1922, 0.6655457), (1923, 0.7342203), (1924, 0.70854956), (1925, 0.6673734), (1926, 0.676293), (1927, 0.6951126), (1928, 0.78465116), (1929, 0.7075848), (1930, 0.7419228), (1931, 0.7219869), (1932, 0.73130804), (1933, 0.7802811), (1934, 0.738673), (1935, 0.70442295), (1936, 0.5725108), (1937, 0.67755824), (1938, 0.690466), (1939, 0.7332932), (1940, 0.69910425), (1941, 0.7386035), (1942, 0.65970474), (1943, 0.7038049), (1944, 0.745764), (1945, 0.75440997), (1946, 0.7667486), (1947, 0.74400073), (1948, 0.6961781), (1949, 0.7184626), (1950, 0.76279134), (1951, 0.6593108), (1952, 0.7402432), (1953, 0.69205165), (1954, 0.74259883), (1955, 0.73403305), (1956, 0.7202424), (1957, 0.73110604), (1958, 0.6845741), (1959, 0.7651877), (1960, 0.6881348), (1961, 0.7061941), (1962, 0.70789075), (1963, 0.7026332), (1964, 0.7153836), (1965, 0.72667795), (1966, 0.68410456), (1967, 0.7537309), (1968, 0.6924845), (1969, 0.7397867), (1970, 0.7552741), (1971, 0.7065682), (1972, 0.65622), (1973, 0.70365363), (1974, 0.76937187), (1975, 0.7427135), (1976, 0.7580713), (1977, 0.6551403), (1978, 0.6854894), (1979, 0.7063348), (1980, 0.68185633), (1981, 0.6806026), (1982, 0.6933318), (1983, 0.6411566), (1984, 0.67919147), (1985, 0.683693), (1986, 0.7111416), (1987, 0.7012172), (1988, 0.7055269), (1989, 0.7297941), (1990, 0.65813434), (1991, 0.7131761), (1992, 0.7834579), (1993, 0.7268635), (1994, 0.7397067), (1995, 0.695731), (1996, 0.8054607), (1997, 0.6815811), (1998, 0.6691315), (1999, 0.6904544), (2000, 0.73177105), (2001, 0.7361716), (2002, 0.71649843), (2003, 0.7049785), (2004, 0.69569874), (2005, 0.64624363), (2006, 0.66990316), (2007, 0.68967324), (2008, 0.7221977), (2009, 0.7128375), (2010, 0.66222525), (2011, 0.5616094), (2012, 0.7396447), (2013, 0.7118018), (2014, 0.76404774), (2015, 0.7036464), (2016, 0.7658028), (2017, 0.6901836), (2018, 0.7107756), (2019, 0.6371152), (2020, 0.76499677), (2021, 0.66744953), (2022, 0.7360292), (2023, 0.1386497), (2024, 0.74879813), (2025, 0.71168154), (2026, 0.636303), (2027, 0.69891286), (2028, 0.6626832), (2029, 0.65006715), (2030, 0.6549039), (2031, 0.68777907), (2032, 0.7413243), (2033, 0.6923656), (2034, 0.7525903), (2035, 0.6964931), (2036, 0.72342515), (2037, 0.69822717), (2038, 0.7275719), (2039, 0.7080875), (2040, 0.7085492), (2041, 0.7458414), (2042, 0.7608914), (2043, 0.68914163), (2044, 0.71963096), (2045, 0.7079651), (2046, 0.68521017), (2047, 0.725371), (2048, 0.69564027), (2049, 0.74119973), (2050, 0.6259038), (2051, 0.70567447), (2052, 0.70287275), (2053, 0.68048537), (2054, 0.6869034), (2055, 0.7675227), (2056, 0.72377944), (2057, 0.6650955), (2058, 0.74770814), (2059, 0.6431707), (2060, 0.74422765), (2061, 0.7317439), (2062, 0.6958434), (2063, 0.66411144), (2064, 0.7205877), (2065, 0.74888533), (2066, 0.6954301), (2067, 0.7339501), (2068, 0.72675264), (2069, 0.7462326), (2070, 0.7402117), (2071, 0.74283594), (2072, 0.7437653), (2073, 0.6422149), (2074, 0.7370561), (2075, 0.75165796), (2076, 0.619208), (2077, 0.73168373), (2078, 0.753701), (2079, 0.7327508), (2080, 0.73823875), (2081, 0.73966503), (2082, 0.72321165), (2083, 0.7254741), (2084, 0.65391433), (2085, 0.69367635), (2086, 0.7228493), (2087, 0.7255852), (2088, 0.75711924), (2089, 0.7248563), (2090, 0.67391336), (2091, 0.7414705), (2092, 0.6749584), (2093, 0.7794673), (2094, 0.78031945), (2095, 0.6822335), (2096, 0.5923867), (2097, 0.6308602), (2098, 0.77405214), (2099, 0.78215873), (2100, 0.64873713), (2101, 0.7159813), (2102, 0.66865313), (2103, 0.73718786), (2104, 0.7347072), (2105, 0.7266749), (2106, 0.7082481), (2107, 0.74611175), (2108, 0.74268216), (2109, 0.688143), (2110, 0.7300635), (2111, 0.71679145), (2112, 0.6820718), (2113, 0.67750144), (2114, 0.7010218), (2115, 0.6772688), (2116, 0.732937), (2117, 0.69461787), (2118, 0.6883148), (2119, 0.7073915), (2120, 0.72240597), (2121, 0.6905595), (2122, 0.7406847), (2123, 0.7040259), (2124, 0.7114337), (2125, 0.69029653), (2126, 0.69476765), (2127, 0.7223826), (2128, 0.69539356), (2129, 0.6780967), (2130, 0.67525697), (2131, 0.7244841), (2132, 0.66098195), (2133, 0.7454048), (2134, 0.7350807), (2135, 0.728829), (2136, 0.73467183), (2137, 0.7627352), (2138, 0.7398316), (2139, 0.7466277), (2140, 0.613559), (2141, 0.75063926), (2142, 0.6419533), (2143, 0.72597855), (2144, 0.7358664), (2145, 0.7340764), (2146, 0.7410951), (2147, 0.7157986), (2148, 0.7201581), (2149, 0.68889654), (2150, 0.6405868), (2151, 0.72625864), (2152, 0.7618004), (2153, 0.6407652), (2154, 0.6688277), (2155, 0.72484255), (2156, 0.7303195), (2157, 0.72609854), (2158, 0.72580475), (2159, 0.67696315), (2160, 0.6707958), (2161, 0.74471253), (2162, 0.74222517), (2163, 0.73097044), (2164, 0.695824), (2165, 0.72007346), (2166, 0.68938386), (2167, 0.67271924), (2168, 0.13116066), (2169, 0.716713), (2170, 0.7339099), (2171, 0.71799576), (2172, 0.6900708), (2173, 0.73797274), (2174, 0.6666047), (2175, 0.704855), (2176, 0.7394656), (2177, 0.71366763), (2178, 0.73293614), (2179, 0.69959784), (2180, 0.7511502), (2181, 0.72099847), (2182, 0.6947059), (2183, 0.7251038), (2184, 0.6888567), (2185, 0.6757627), (2186, 0.709877), (2187, 0.7065626), (2188, 0.7449733), (2189, 0.67151433), (2190, 0.74055827), (2191, 0.69313854), (2192, 0.74518895), (2193, 0.7067576), (2194, 0.6957327), (2195, 0.6916132), (2196, 0.7549969), (2197, 0.72428465), (2198, 0.64569217), (2199, 0.651851), (2200, 0.65120023), (2201, 0.6935711), (2202, 0.70057267), (2203, 0.7308943), (2204, 0.6575188), (2205, 0.65334415), (2206, 0.6754025), (2207, 0.7768498), (2208, 0.69103503), (2209, 0.6915521), (2210, 0.6506581), (2211, 0.71376854), (2212, 0.6705483), (2213, 0.6721604), (2214, 0.74822265), (2215, 0.7142466), (2216, 0.6811151), (2217, 0.7208685), (2218, 0.72358215), (2219, 0.6805645), (2220, 0.73564416), (2221, 0.73366874), (2222, 0.7183228), (2223, 0.72784525), (2224, 0.76633304), (2225, 0.7503341), (2226, 0.74865663), (2227, 0.74222594), (2228, 0.7315633), (2229, 0.7541513), (2230, 0.7218166), (2231, 0.6752394), (2232, 0.6405868), (2233, 0.7225763), (2234, 0.72287613), (2235, 0.6893969), (2236, 0.76068693), (2237, 0.5939918), (2238, 0.73764175), (2239, 0.6952522), (2240, 0.73448795), (2241, 0.69340265), (2242, 0.69373876), (2243, 0.7215641), (2244, 0.7352053), (2245, 0.72121835), (2246, 0.68998694), (2247, 0.71513903), (2248, 0.76516604), (2249, 0.7216215), (2250, 0.678671), (2251, 0.7717193), (2252, 0.70537937), (2253, 0.666895), (2254, 0.7287115), (2255, 0.77753377), (2256, 0.7103935), (2257, 0.6360552), (2258, 0.75733584), (2259, 0.74175566), (2260, 0.70503074), (2261, 0.7308319), (2262, 0.73427), (2263, 0.69884795), (2264, 0.73513997), (2265, 0.7698262), (2266, 0.6918654), (2267, 0.68956596), (2268, 0.78178746), (2269, 0.65999305), (2270, 0.6869726), (2271, 0.73505497), (2272, 0.6930259), (2273, 0.7131761), (2274, 0.709943), (2275, 0.66392165), (2276, 0.68386674), (2277, 0.7497019), (2278, 0.746697), (2279, 0.72693974), (2280, 0.77310103), (2281, 0.7892243), (2282, 0.66835254), (2283, 0.57035583), (2284, 0.6278764), (2285, 0.6693424), (2286, 0.689903), (2287, 0.74064887), (2288, 0.6859262), (2289, 0.73759925), (2290, 0.6818657), (2291, 0.7611636), (2292, 0.6908164), (2293, 0.7232021), (2294, 0.66688114), (2295, 0.7224392), (2296, 0.7404912), (2297, 0.6738819), (2298, 0.63136923), (2299, 0.73564684), (2300, 0.6975752), (2301, 0.7421453), (2302, 0.69415575), (2303, 0.6605905), (2304, 0.74630797), (2305, 0.7388684), (2306, 0.7262194), (2307, 0.69621044), (2308, 0.7321602), (2309, 0.7263912), (2310, 0.73969245), (2311, 0.70547795), (2312, 0.718413), (2313, 0.6336386), (2314, 0.6892149), (2315, 0.70801944), (2316, 0.65921617), (2317, 0.7054642), (2318, 0.7976509), (2319, 0.74187505), (2320, 0.69548583), (2321, 0.74189174), (2322, 0.7036864), (2323, 0.7231298), (2324, 0.7459932), (2325, 0.7429617), (2326, 0.7453601), (2327, 0.6879903), (2328, 0.69726336), (2329, 0.72528553), (2330, 0.7301005), (2331, 0.76093835), (2332, 0.71037596), (2333, 0.72228575), (2334, 0.72568285), (2335, 0.68755615), (2336, 0.7540102), (2337, 0.7326263), (2338, 0.7232019), (2339, 0.72052133), (2340, 0.7401762), (2341, 0.6869525), (2342, 0.74382657), (2343, 0.66514045), (2344, 0.68450755), (2345, 0.6841542), (2346, 0.7009179), (2347, 0.66330045), (2348, 0.78235674), (2349, 0.6789145), (2350, 0.74693483), (2351, 0.7100317), (2352, 0.71178097), (2353, 0.7030517), (2354, 0.76359874), (2355, 0.6849564), (2356, 0.67256224), (2357, 0.7531387), (2358, 0.72773933), (2359, 0.5319673), (2360, 0.6967959), (2361, 0.6678483), (2362, 0.70683485), (2363, 0.6820717), (2364, 0.6948655), (2365, 0.74939257), (2366, 0.74209154), (2367, 0.70052195), (2368, 0.6841126), (2369, 0.7253501), (2370, 0.69221014), (2371, 0.72848034), (2372, 0.7105891), (2373, 0.6897968), (2374, 0.75248265), (2375, 0.7262822), (2376, 0.14969814), (2377, 0.6651461), (2378, 0.7205246), (2379, 0.67118716), (2380, 0.7533008)]\n"
          ],
          "name": "stdout"
        }
      ]
    },
    {
      "cell_type": "code",
      "metadata": {
        "id": "2wszXHEbJsjm"
      },
      "source": [
        "sim_scores_list = sorted(sim_scores, key=lambda x:x[1], reverse=True)\n",
        "\n",
        "# title과 유사도를 나타낸 근사값들이 리스트로 나오게됨"
      ],
      "execution_count": 55,
      "outputs": []
    },
    {
      "cell_type": "code",
      "metadata": {
        "colab": {
          "base_uri": "https://localhost:8080/"
        },
        "id": "cUBaz0e0KvaD",
        "outputId": "02726d64-95d1-4359-98ab-6a4efb134094"
      },
      "source": [
        "sim_scores_list[1:6]  # 자기자신은 제외"
      ],
      "execution_count": 56,
      "outputs": [
        {
          "output_type": "execute_result",
          "data": {
            "text/plain": [
              "[(6, 0.8593236),\n",
              " (225, 0.85242033),\n",
              " (537, 0.8478713),\n",
              " (606, 0.8467318),\n",
              " (331, 0.84566164)]"
            ]
          },
          "metadata": {},
          "execution_count": 56
        }
      ]
    },
    {
      "cell_type": "code",
      "metadata": {
        "colab": {
          "base_uri": "https://localhost:8080/",
          "height": 808
        },
        "id": "Et9u9hJ8LCX8",
        "outputId": "85882148-639b-467b-f027-1b025ce1ff5a"
      },
      "source": [
        "df_data.head(6)"
      ],
      "execution_count": 57,
      "outputs": [
        {
          "output_type": "execute_result",
          "data": {
            "text/html": [
              "<div>\n",
              "<style scoped>\n",
              "    .dataframe tbody tr th:only-of-type {\n",
              "        vertical-align: middle;\n",
              "    }\n",
              "\n",
              "    .dataframe tbody tr th {\n",
              "        vertical-align: top;\n",
              "    }\n",
              "\n",
              "    .dataframe thead th {\n",
              "        text-align: right;\n",
              "    }\n",
              "</style>\n",
              "<table border=\"1\" class=\"dataframe\">\n",
              "  <thead>\n",
              "    <tr style=\"text-align: right;\">\n",
              "      <th></th>\n",
              "      <th>Unnamed: 0</th>\n",
              "      <th>Desc</th>\n",
              "      <th>Unnamed: 0.1</th>\n",
              "      <th>author</th>\n",
              "      <th>genre</th>\n",
              "      <th>image_link</th>\n",
              "      <th>rating</th>\n",
              "      <th>title</th>\n",
              "      <th>cleaned</th>\n",
              "    </tr>\n",
              "  </thead>\n",
              "  <tbody>\n",
              "    <tr>\n",
              "      <th>0</th>\n",
              "      <td>0</td>\n",
              "      <td>We know that power is shifting: From West to E...</td>\n",
              "      <td>0.0</td>\n",
              "      <td>Moisés Naím</td>\n",
              "      <td>Business</td>\n",
              "      <td>https://i.gr-assets.com/images/S/compressed.ph...</td>\n",
              "      <td>3.63</td>\n",
              "      <td>The End of Power: From Boardrooms to Battlefie...</td>\n",
              "      <td>We know that power is shifting From West to Ea...</td>\n",
              "    </tr>\n",
              "    <tr>\n",
              "      <th>1</th>\n",
              "      <td>1</td>\n",
              "      <td>Following the success of The Accidental Billio...</td>\n",
              "      <td>1.0</td>\n",
              "      <td>Blake J. Harris</td>\n",
              "      <td>Business</td>\n",
              "      <td>https://i.gr-assets.com/images/S/compressed.ph...</td>\n",
              "      <td>3.94</td>\n",
              "      <td>Console Wars: Sega, Nintendo, and the Battle t...</td>\n",
              "      <td>Following the success of The Accidental Billio...</td>\n",
              "    </tr>\n",
              "    <tr>\n",
              "      <th>2</th>\n",
              "      <td>2</td>\n",
              "      <td>How to tap the power of social software and ne...</td>\n",
              "      <td>2.0</td>\n",
              "      <td>Chris Brogan</td>\n",
              "      <td>Business</td>\n",
              "      <td>https://i.gr-assets.com/images/S/compressed.ph...</td>\n",
              "      <td>3.78</td>\n",
              "      <td>Trust Agents: Using the Web to Build Influence...</td>\n",
              "      <td>How to tap the power of social software and ne...</td>\n",
              "    </tr>\n",
              "    <tr>\n",
              "      <th>3</th>\n",
              "      <td>3</td>\n",
              "      <td>William J. Bernstein is an American financial ...</td>\n",
              "      <td>3.0</td>\n",
              "      <td>William J. Bernstein</td>\n",
              "      <td>Business</td>\n",
              "      <td>https://i.gr-assets.com/images/S/compressed.ph...</td>\n",
              "      <td>4.20</td>\n",
              "      <td>The Four Pillars of Investing</td>\n",
              "      <td>William J Bernstein is an American financial t...</td>\n",
              "    </tr>\n",
              "    <tr>\n",
              "      <th>4</th>\n",
              "      <td>4</td>\n",
              "      <td>Amazing book. And I joined Steve Jobs and many...</td>\n",
              "      <td>4.0</td>\n",
              "      <td>Akio Morita</td>\n",
              "      <td>Business</td>\n",
              "      <td>https://i.gr-assets.com/images/S/compressed.ph...</td>\n",
              "      <td>4.05</td>\n",
              "      <td>Made in Japan: Akio Morita and Sony</td>\n",
              "      <td>Amazing book And I joined Steve Jobs and many ...</td>\n",
              "    </tr>\n",
              "    <tr>\n",
              "      <th>5</th>\n",
              "      <td>5</td>\n",
              "      <td>In the tradition of Phil Knight's Shoe Dog com...</td>\n",
              "      <td>5.0</td>\n",
              "      <td>Marc Randolph</td>\n",
              "      <td>Business</td>\n",
              "      <td>https://i.gr-assets.com/images/S/compressed.ph...</td>\n",
              "      <td>4.28</td>\n",
              "      <td>That Will Never Work: The Birth of Netflix and...</td>\n",
              "      <td>In the tradition of Phil Knight s Shoe Dog com...</td>\n",
              "    </tr>\n",
              "  </tbody>\n",
              "</table>\n",
              "</div>"
            ],
            "text/plain": [
              "   Unnamed: 0  ...                                            cleaned\n",
              "0           0  ...  We know that power is shifting From West to Ea...\n",
              "1           1  ...  Following the success of The Accidental Billio...\n",
              "2           2  ...  How to tap the power of social software and ne...\n",
              "3           3  ...  William J Bernstein is an American financial t...\n",
              "4           4  ...  Amazing book And I joined Steve Jobs and many ...\n",
              "5           5  ...  In the tradition of Phil Knight s Shoe Dog com...\n",
              "\n",
              "[6 rows x 9 columns]"
            ]
          },
          "metadata": {},
          "execution_count": 57
        }
      ]
    },
    {
      "cell_type": "code",
      "metadata": {
        "id": "RJlp2dM_Lh2P"
      },
      "source": [
        ""
      ],
      "execution_count": null,
      "outputs": []
    }
  ]
}